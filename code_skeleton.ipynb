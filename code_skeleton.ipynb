{
 "cells": [
  {
   "cell_type": "code",
   "execution_count": null,
   "id": "b7374071-9045-4769-8624-550608b7fc05",
   "metadata": {},
   "outputs": [],
   "source": [
    "# GOOGLE DOC: https://drive.google.com/drive/folders/1OdkU_gbCuF6F0qk5fp1FZy7cS3tLvf7y\n",
    "# Import CSV file 5204055011do001.csv for income data\n",
    "# URL: https://www.abs.gov.au/statistics/economy/national-accounts/australian-national-accounts-distribution-household-income-consumption-and-wealth/latest-release#data-downloads\n",
    "# Using lists and for loops sort through each tab of the CSV file grabbing below data per year:\n",
    "# From CSV file extract the total gross income for \"all households\" and store as a variable \n",
    "# From CSV file extract the total income payable for \"all households\" and store as a variable\n",
    "# From CSV file extract the gross disposable income for \"all households\" and store as a variable\n",
    "# Create a dataframe storing these variables per year \n",
    "# Clean data frame to only show values between 2003-2016\n",
    "# Data visualisations of the income data (gross income vs payable income vs disposable/'usable' income per year)\n",
    "# Clean data frame to only show values between 2003-2016\n",
    "# Use API call for housing data \n",
    "# URL: https://www.abs.gov.au/statistics/economy/national-accounts/australian-national-accounts-distribution-household-income-consumption-and-wealth/latest-release#data-downloads\n",
    "# From API call the median housing data per year, per housing type and store as a data frame \n",
    "# Clean data frame to only show values between 2003-2016\n",
    "# Data visualisations of the housing data (house prices per year, per type)\n",
    "# Explanation of data visualisation\n",
    "# 1. What trends can be observed in median income per year vs median housing cost per year (per type)\n",
    "# Add data visualisations based on observable trends and provide explanation\n",
    "# 2. \n",
    "\n",
    "\n"
   ]
  }
 ],
 "metadata": {
  "kernelspec": {
   "display_name": "Python 3 (ipykernel)",
   "language": "python",
   "name": "python3"
  },
  "language_info": {
   "codemirror_mode": {
    "name": "ipython",
    "version": 3
   },
   "file_extension": ".py",
   "mimetype": "text/x-python",
   "name": "python",
   "nbconvert_exporter": "python",
   "pygments_lexer": "ipython3",
   "version": "3.11.7"
  }
 },
 "nbformat": 4,
 "nbformat_minor": 5
}
