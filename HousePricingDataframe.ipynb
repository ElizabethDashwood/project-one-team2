{
 "cells": [
  {
   "cell_type": "markdown",
   "id": "d72c1d4e-7c36-40a9-be34-7729abb44cfb",
   "metadata": {},
   "source": [
    "# Importing the House Price data from the Melbourne City Database (API)"
   ]
  },
  {
   "cell_type": "code",
   "execution_count": 1,
   "id": "5212a7cd-3aa0-4610-bd44-e7ee0a1b82a9",
   "metadata": {},
   "outputs": [],
   "source": [
    "# Dependencies\n",
    "import requests\n",
    "import json\n",
    "import pandas as pd"
   ]
  },
  {
   "cell_type": "code",
   "execution_count": 2,
   "id": "c31845fc-4efb-4e1e-93e8-285da0883d75",
   "metadata": {},
   "outputs": [],
   "source": [
    "# base URL for API\n",
    "base_url = \"https://data.melbourne.vic.gov.au/api/explore/v2.1/catalog/datasets/house-prices-by-small-area-sale-year/records?limit=50&refine=sale_year%3A\""
   ]
  },
  {
   "cell_type": "code",
   "execution_count": 3,
   "id": "f9650406-e218-4216-8200-91cbe9addc8f",
   "metadata": {},
   "outputs": [
    {
     "data": {
      "text/html": [
       "<div>\n",
       "<style scoped>\n",
       "    .dataframe tbody tr th:only-of-type {\n",
       "        vertical-align: middle;\n",
       "    }\n",
       "\n",
       "    .dataframe tbody tr th {\n",
       "        vertical-align: top;\n",
       "    }\n",
       "\n",
       "    .dataframe thead th {\n",
       "        text-align: right;\n",
       "    }\n",
       "</style>\n",
       "<table border=\"1\" class=\"dataframe\">\n",
       "  <thead>\n",
       "    <tr style=\"text-align: right;\">\n",
       "      <th></th>\n",
       "      <th>sale_year</th>\n",
       "      <th>small_area</th>\n",
       "      <th>type</th>\n",
       "      <th>median_price</th>\n",
       "      <th>transaction_count</th>\n",
       "    </tr>\n",
       "  </thead>\n",
       "  <tbody>\n",
       "    <tr>\n",
       "      <th>0</th>\n",
       "      <td>2016</td>\n",
       "      <td>East Melbourne</td>\n",
       "      <td>House/Townhouse</td>\n",
       "      <td>1940000.0</td>\n",
       "      <td>35</td>\n",
       "    </tr>\n",
       "    <tr>\n",
       "      <th>1</th>\n",
       "      <td>2016</td>\n",
       "      <td>East Melbourne</td>\n",
       "      <td>Residential Apartment</td>\n",
       "      <td>650000.0</td>\n",
       "      <td>129</td>\n",
       "    </tr>\n",
       "    <tr>\n",
       "      <th>2</th>\n",
       "      <td>2016</td>\n",
       "      <td>Melbourne (CBD)</td>\n",
       "      <td>House/Townhouse</td>\n",
       "      <td>NaN</td>\n",
       "      <td>2</td>\n",
       "    </tr>\n",
       "    <tr>\n",
       "      <th>3</th>\n",
       "      <td>2016</td>\n",
       "      <td>Melbourne (CBD)</td>\n",
       "      <td>Residential Apartment</td>\n",
       "      <td>435000.0</td>\n",
       "      <td>1264</td>\n",
       "    </tr>\n",
       "    <tr>\n",
       "      <th>4</th>\n",
       "      <td>2016</td>\n",
       "      <td>North Melbourne</td>\n",
       "      <td>Residential Apartment</td>\n",
       "      <td>515000.0</td>\n",
       "      <td>231</td>\n",
       "    </tr>\n",
       "  </tbody>\n",
       "</table>\n",
       "</div>"
      ],
      "text/plain": [
       "  sale_year       small_area                   type  median_price  \\\n",
       "0      2016   East Melbourne        House/Townhouse     1940000.0   \n",
       "1      2016   East Melbourne  Residential Apartment      650000.0   \n",
       "2      2016  Melbourne (CBD)        House/Townhouse           NaN   \n",
       "3      2016  Melbourne (CBD)  Residential Apartment      435000.0   \n",
       "4      2016  North Melbourne  Residential Apartment      515000.0   \n",
       "\n",
       "   transaction_count  \n",
       "0                 35  \n",
       "1                129  \n",
       "2                  2  \n",
       "3               1264  \n",
       "4                231  "
      ]
     },
     "execution_count": 3,
     "metadata": {},
     "output_type": "execute_result"
    }
   ],
   "source": [
    "# get all years\n",
    "min_year = 2000 - 1\n",
    "max_year = 2016\n",
    "temp = []\n",
    "\n",
    "for i in range(max_year, min_year, -1):\n",
    "    response = requests.get(base_url + str(i)).json()\n",
    "\n",
    "    year_results = response[\"results\"]\n",
    "\n",
    "    for j in range(len(year_results)):\n",
    "        temp.append(year_results[j])\n",
    "    \n",
    "    #print(json.dumps(response[\"results\"], indent=4, sort_keys=True))\n",
    "house_price_df = pd.DataFrame(temp)\n",
    "house_price_df.head()"
   ]
  },
  {
   "cell_type": "code",
   "execution_count": 4,
   "id": "e184ab81-607d-417c-be44-5c8eb7ce7945",
   "metadata": {},
   "outputs": [
    {
     "data": {
      "text/plain": [
       "sale_year            347\n",
       "small_area           347\n",
       "type                 347\n",
       "median_price         319\n",
       "transaction_count    347\n",
       "dtype: int64"
      ]
     },
     "execution_count": 4,
     "metadata": {},
     "output_type": "execute_result"
    }
   ],
   "source": [
    "# Get data from DF\n",
    "house_price_df.count()"
   ]
  },
  {
   "cell_type": "code",
   "execution_count": 6,
   "id": "9bd30fc1-dce4-429f-8621-dba87735bb2c",
   "metadata": {},
   "outputs": [
    {
     "data": {
      "text/plain": [
       "sale_year            319\n",
       "small_area           319\n",
       "type                 319\n",
       "median_price         319\n",
       "transaction_count    319\n",
       "dtype: int64"
      ]
     },
     "execution_count": 6,
     "metadata": {},
     "output_type": "execute_result"
    }
   ],
   "source": [
    "# Drop NA data\n",
    "house_price_df = house_price_df.dropna(how='any')\n",
    "house_price_df.count()"
   ]
  },
  {
   "cell_type": "code",
   "execution_count": 7,
   "id": "a7d05162-f6b3-4627-8e23-c9b026d9d0a5",
   "metadata": {},
   "outputs": [
    {
     "data": {
      "text/html": [
       "<div>\n",
       "<style scoped>\n",
       "    .dataframe tbody tr th:only-of-type {\n",
       "        vertical-align: middle;\n",
       "    }\n",
       "\n",
       "    .dataframe tbody tr th {\n",
       "        vertical-align: top;\n",
       "    }\n",
       "\n",
       "    .dataframe thead th {\n",
       "        text-align: right;\n",
       "    }\n",
       "</style>\n",
       "<table border=\"1\" class=\"dataframe\">\n",
       "  <thead>\n",
       "    <tr style=\"text-align: right;\">\n",
       "      <th></th>\n",
       "      <th>sale_year</th>\n",
       "      <th>small_area</th>\n",
       "      <th>type</th>\n",
       "      <th>median_price</th>\n",
       "      <th>transaction_count</th>\n",
       "    </tr>\n",
       "  </thead>\n",
       "  <tbody>\n",
       "    <tr>\n",
       "      <th>0</th>\n",
       "      <td>2016</td>\n",
       "      <td>East Melbourne</td>\n",
       "      <td>House/Townhouse</td>\n",
       "      <td>1940000.0</td>\n",
       "      <td>35</td>\n",
       "    </tr>\n",
       "    <tr>\n",
       "      <th>1</th>\n",
       "      <td>2016</td>\n",
       "      <td>East Melbourne</td>\n",
       "      <td>Residential Apartment</td>\n",
       "      <td>650000.0</td>\n",
       "      <td>129</td>\n",
       "    </tr>\n",
       "    <tr>\n",
       "      <th>3</th>\n",
       "      <td>2016</td>\n",
       "      <td>Melbourne (CBD)</td>\n",
       "      <td>Residential Apartment</td>\n",
       "      <td>435000.0</td>\n",
       "      <td>1264</td>\n",
       "    </tr>\n",
       "    <tr>\n",
       "      <th>4</th>\n",
       "      <td>2016</td>\n",
       "      <td>North Melbourne</td>\n",
       "      <td>Residential Apartment</td>\n",
       "      <td>515000.0</td>\n",
       "      <td>231</td>\n",
       "    </tr>\n",
       "    <tr>\n",
       "      <th>5</th>\n",
       "      <td>2016</td>\n",
       "      <td>Parkville</td>\n",
       "      <td>House/Townhouse</td>\n",
       "      <td>1761250.0</td>\n",
       "      <td>32</td>\n",
       "    </tr>\n",
       "  </tbody>\n",
       "</table>\n",
       "</div>"
      ],
      "text/plain": [
       "  sale_year       small_area                   type  median_price  \\\n",
       "0      2016   East Melbourne        House/Townhouse     1940000.0   \n",
       "1      2016   East Melbourne  Residential Apartment      650000.0   \n",
       "3      2016  Melbourne (CBD)  Residential Apartment      435000.0   \n",
       "4      2016  North Melbourne  Residential Apartment      515000.0   \n",
       "5      2016        Parkville        House/Townhouse     1761250.0   \n",
       "\n",
       "   transaction_count  \n",
       "0                 35  \n",
       "1                129  \n",
       "3               1264  \n",
       "4                231  \n",
       "5                 32  "
      ]
     },
     "execution_count": 7,
     "metadata": {},
     "output_type": "execute_result"
    }
   ],
   "source": [
    "# Display clean DF\n",
    "house_price_df.head()"
   ]
  },
  {
   "cell_type": "code",
   "execution_count": null,
   "id": "f0739c56-8786-490d-96aa-6813fe2d1777",
   "metadata": {},
   "outputs": [],
   "source": []
  }
 ],
 "metadata": {
  "kernelspec": {
   "display_name": "Python 3 (ipykernel)",
   "language": "python",
   "name": "python3"
  },
  "language_info": {
   "codemirror_mode": {
    "name": "ipython",
    "version": 3
   },
   "file_extension": ".py",
   "mimetype": "text/x-python",
   "name": "python",
   "nbconvert_exporter": "python",
   "pygments_lexer": "ipython3",
   "version": "3.11.7"
  }
 },
 "nbformat": 4,
 "nbformat_minor": 5
}
