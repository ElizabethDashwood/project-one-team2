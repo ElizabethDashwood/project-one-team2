{
 "cells": [
  {
   "cell_type": "code",
   "execution_count": null,
   "id": "d67b92d8-7352-4bf9-9031-cc0349540421",
   "metadata": {},
   "outputs": [],
   "source": [
    "#https://www.abs.gov.au/statistics/people/population/population-census/latest-release\n",
    "#Need to look at SAL (Suburbs and Location Data) to get to population data by suburb\n",
    "#https://www.abs.gov.au/statistics/standards/australian-statistical-geography-standard-asgs-edition-3/jul2021-jun2026/non-abs-structures/suburbs-and-localities\n",
    "#https://geo.abs.gov.au/arcgis/rest/services/ASGS2021/MB/MapServer\n",
    "#https://geo.abs.gov.au/arcgis/rest/services/ASGS2021/SAL/MapServer\n",
    "#https://www.abs.gov.au/statistics/people/population/regional-population/latest-release#data-downloads\n",
    "#https://www.reddit.com/r/gis/comments/1bmgd9s/australian_population_data_by_townsuburb/\n",
    "#https://www.abs.gov.au/census/guide-census-data/mesh-block-counts/latest-release\n",
    "#https://www.planning.vic.gov.au/guides-and-resources/data-and-insights/victorian-population-data\n",
    "#https://mapshare.vic.gov.au/demography-map/\n",
    "#https://en.wikipedia.org/wiki/List_of_Melbourne_suburbs\n",
    "#https://www.abs.gov.au/ausstats/abs@.nsf/66f306f503e529a5ca25697e0017661f/99FE76C6D6BE36A4CA256C2500036F77?opendocument\n",
    "#https://www.abs.gov.au/about/data-services/data-explorer-user-guide/exploring-data\n",
    "#https://www.abs.gov.au/about/data-services/data-explorer/data-explorer-user-guide/finding-data\n",
    "#https://www.abs.gov.au/statistics/people/population/regional-population/2022-23#data-downloads\n",
    "#https://www.abs.gov.au/websitedbs/D3310114.nsf/Home/Services%20for%20Libraries%20-%20Historical%20Census%20Data#:~:text=Census%20Data%20Online%20provides%20access,Censuses%20of%20Population%20and%20Housing.&text=Historical%20Censuses%20(Pre%201996)%20provides,progressively%20added%20to%20this%20portal.\n",
    "#https://www.abs.gov.au/AUSSTATS/abs@.nsf/Previousproducts/927ACD729DD72D51CA25720B00028C45?opendocument"
   ]
  },
  {
   "cell_type": "code",
   "execution_count": 4,
   "id": "f7a02ba6-5cf6-44cb-a5a5-5a10e9461741",
   "metadata": {},
   "outputs": [],
   "source": [
    "import requests\n",
    "import json\n",
    "import pandas as pd"
   ]
  },
  {
   "cell_type": "code",
   "execution_count": null,
   "id": "9a01806b-f086-4350-a384-c475e28c8658",
   "metadata": {},
   "outputs": [],
   "source": [
    "base_url = 'https://data.melbourne.vic.gov.au/api/explore/v2.1/catalog/datasets/'"
   ]
  }
 ],
 "metadata": {
  "kernelspec": {
   "display_name": "Python 3 (ipykernel)",
   "language": "python",
   "name": "python3"
  },
  "language_info": {
   "codemirror_mode": {
    "name": "ipython",
    "version": 3
   },
   "file_extension": ".py",
   "mimetype": "text/x-python",
   "name": "python",
   "nbconvert_exporter": "python",
   "pygments_lexer": "ipython3",
   "version": "3.10.13"
  }
 },
 "nbformat": 4,
 "nbformat_minor": 5
}
