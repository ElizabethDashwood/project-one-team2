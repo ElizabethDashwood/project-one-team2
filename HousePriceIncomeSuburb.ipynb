{
 "cells": [
  {
   "cell_type": "markdown",
   "id": "13b24f10-4e47-4f0d-985c-4bf117aeb04f",
   "metadata": {},
   "source": [
    "# Importing the House Price data from the Melbourne City Database (API)\n",
    "(VB)"
   ]
  },
  {
   "cell_type": "code",
   "execution_count": 1,
   "id": "07e83952-f592-4909-a188-1bc2c28afc8f",
   "metadata": {},
   "outputs": [],
   "source": [
    "# Dependencies\n",
    "import requests\n",
    "import json\n",
    "import pandas as pd\n",
    "import numpy as np\n",
    "from pathlib import Path"
   ]
  },
  {
   "cell_type": "code",
   "execution_count": 2,
   "id": "72b2dcad-6f54-419a-810f-6c4beb1fba85",
   "metadata": {},
   "outputs": [],
   "source": [
    "# base URL for API\n",
    "base_url = \"https://data.melbourne.vic.gov.au/api/explore/v2.1/catalog/datasets/house-prices-by-small-area-sale-year/records?limit=50&refine=sale_year%3A\""
   ]
  },
  {
   "cell_type": "code",
   "execution_count": 3,
   "id": "89df5a07-0d10-434f-b62a-5017b481315c",
   "metadata": {},
   "outputs": [
    {
     "data": {
      "text/html": [
       "<div>\n",
       "<style scoped>\n",
       "    .dataframe tbody tr th:only-of-type {\n",
       "        vertical-align: middle;\n",
       "    }\n",
       "\n",
       "    .dataframe tbody tr th {\n",
       "        vertical-align: top;\n",
       "    }\n",
       "\n",
       "    .dataframe thead th {\n",
       "        text-align: right;\n",
       "    }\n",
       "</style>\n",
       "<table border=\"1\" class=\"dataframe\">\n",
       "  <thead>\n",
       "    <tr style=\"text-align: right;\">\n",
       "      <th></th>\n",
       "      <th>sale_year</th>\n",
       "      <th>small_area</th>\n",
       "      <th>type</th>\n",
       "      <th>median_price</th>\n",
       "      <th>transaction_count</th>\n",
       "    </tr>\n",
       "  </thead>\n",
       "  <tbody>\n",
       "    <tr>\n",
       "      <th>0</th>\n",
       "      <td>2016</td>\n",
       "      <td>East Melbourne</td>\n",
       "      <td>House/Townhouse</td>\n",
       "      <td>1940000.0</td>\n",
       "      <td>35</td>\n",
       "    </tr>\n",
       "    <tr>\n",
       "      <th>1</th>\n",
       "      <td>2016</td>\n",
       "      <td>East Melbourne</td>\n",
       "      <td>Residential Apartment</td>\n",
       "      <td>650000.0</td>\n",
       "      <td>129</td>\n",
       "    </tr>\n",
       "    <tr>\n",
       "      <th>2</th>\n",
       "      <td>2016</td>\n",
       "      <td>Melbourne (CBD)</td>\n",
       "      <td>House/Townhouse</td>\n",
       "      <td>NaN</td>\n",
       "      <td>2</td>\n",
       "    </tr>\n",
       "    <tr>\n",
       "      <th>3</th>\n",
       "      <td>2016</td>\n",
       "      <td>Melbourne (CBD)</td>\n",
       "      <td>Residential Apartment</td>\n",
       "      <td>435000.0</td>\n",
       "      <td>1264</td>\n",
       "    </tr>\n",
       "    <tr>\n",
       "      <th>4</th>\n",
       "      <td>2016</td>\n",
       "      <td>North Melbourne</td>\n",
       "      <td>Residential Apartment</td>\n",
       "      <td>515000.0</td>\n",
       "      <td>231</td>\n",
       "    </tr>\n",
       "  </tbody>\n",
       "</table>\n",
       "</div>"
      ],
      "text/plain": [
       "  sale_year       small_area                   type  median_price  \\\n",
       "0      2016   East Melbourne        House/Townhouse     1940000.0   \n",
       "1      2016   East Melbourne  Residential Apartment      650000.0   \n",
       "2      2016  Melbourne (CBD)        House/Townhouse           NaN   \n",
       "3      2016  Melbourne (CBD)  Residential Apartment      435000.0   \n",
       "4      2016  North Melbourne  Residential Apartment      515000.0   \n",
       "\n",
       "   transaction_count  \n",
       "0                 35  \n",
       "1                129  \n",
       "2                  2  \n",
       "3               1264  \n",
       "4                231  "
      ]
     },
     "execution_count": 3,
     "metadata": {},
     "output_type": "execute_result"
    }
   ],
   "source": [
    "# get all years\n",
    "min_year = 2000 - 1\n",
    "max_year = 2016\n",
    "temp = []\n",
    "\n",
    "for i in range(max_year, min_year, -1):\n",
    "    response = requests.get(base_url + str(i)).json()\n",
    "\n",
    "    year_results = response[\"results\"]\n",
    "\n",
    "    for j in range(len(year_results)):\n",
    "        temp.append(year_results[j])\n",
    "    \n",
    "house_price_df = pd.DataFrame(temp)\n",
    "house_price_df.head()"
   ]
  },
  {
   "cell_type": "code",
   "execution_count": 4,
   "id": "83aea52d-6847-4c50-80e9-0ab587c2bbf9",
   "metadata": {},
   "outputs": [
    {
     "data": {
      "text/plain": [
       "sale_year            347\n",
       "small_area           347\n",
       "type                 347\n",
       "median_price         319\n",
       "transaction_count    347\n",
       "dtype: int64"
      ]
     },
     "execution_count": 4,
     "metadata": {},
     "output_type": "execute_result"
    }
   ],
   "source": [
    "# Get data from DF\n",
    "house_price_df.count()"
   ]
  },
  {
   "cell_type": "code",
   "execution_count": 5,
   "id": "2ca5abb9-f47c-4251-9ccf-08f45d3bccb5",
   "metadata": {},
   "outputs": [
    {
     "data": {
      "text/plain": [
       "sale_year            319\n",
       "small_area           319\n",
       "type                 319\n",
       "median_price         319\n",
       "transaction_count    319\n",
       "dtype: int64"
      ]
     },
     "execution_count": 5,
     "metadata": {},
     "output_type": "execute_result"
    }
   ],
   "source": [
    "# Drop NA data\n",
    "house_price_df = house_price_df.dropna(how='any')\n",
    "house_price_df.count()"
   ]
  },
  {
   "cell_type": "code",
   "execution_count": 6,
   "id": "024eb030-5fe5-462f-aefc-cc9a9a82fb6b",
   "metadata": {},
   "outputs": [
    {
     "data": {
      "text/html": [
       "<div>\n",
       "<style scoped>\n",
       "    .dataframe tbody tr th:only-of-type {\n",
       "        vertical-align: middle;\n",
       "    }\n",
       "\n",
       "    .dataframe tbody tr th {\n",
       "        vertical-align: top;\n",
       "    }\n",
       "\n",
       "    .dataframe thead th {\n",
       "        text-align: right;\n",
       "    }\n",
       "</style>\n",
       "<table border=\"1\" class=\"dataframe\">\n",
       "  <thead>\n",
       "    <tr style=\"text-align: right;\">\n",
       "      <th></th>\n",
       "      <th>sale_year</th>\n",
       "      <th>small_area</th>\n",
       "      <th>type</th>\n",
       "      <th>median_price</th>\n",
       "      <th>transaction_count</th>\n",
       "    </tr>\n",
       "  </thead>\n",
       "  <tbody>\n",
       "    <tr>\n",
       "      <th>0</th>\n",
       "      <td>2016</td>\n",
       "      <td>East Melbourne</td>\n",
       "      <td>House/Townhouse</td>\n",
       "      <td>1940000.0</td>\n",
       "      <td>35</td>\n",
       "    </tr>\n",
       "    <tr>\n",
       "      <th>1</th>\n",
       "      <td>2016</td>\n",
       "      <td>East Melbourne</td>\n",
       "      <td>Residential Apartment</td>\n",
       "      <td>650000.0</td>\n",
       "      <td>129</td>\n",
       "    </tr>\n",
       "    <tr>\n",
       "      <th>3</th>\n",
       "      <td>2016</td>\n",
       "      <td>Melbourne (CBD)</td>\n",
       "      <td>Residential Apartment</td>\n",
       "      <td>435000.0</td>\n",
       "      <td>1264</td>\n",
       "    </tr>\n",
       "    <tr>\n",
       "      <th>4</th>\n",
       "      <td>2016</td>\n",
       "      <td>North Melbourne</td>\n",
       "      <td>Residential Apartment</td>\n",
       "      <td>515000.0</td>\n",
       "      <td>231</td>\n",
       "    </tr>\n",
       "    <tr>\n",
       "      <th>5</th>\n",
       "      <td>2016</td>\n",
       "      <td>Parkville</td>\n",
       "      <td>House/Townhouse</td>\n",
       "      <td>1761250.0</td>\n",
       "      <td>32</td>\n",
       "    </tr>\n",
       "  </tbody>\n",
       "</table>\n",
       "</div>"
      ],
      "text/plain": [
       "  sale_year       small_area                   type  median_price  \\\n",
       "0      2016   East Melbourne        House/Townhouse     1940000.0   \n",
       "1      2016   East Melbourne  Residential Apartment      650000.0   \n",
       "3      2016  Melbourne (CBD)  Residential Apartment      435000.0   \n",
       "4      2016  North Melbourne  Residential Apartment      515000.0   \n",
       "5      2016        Parkville        House/Townhouse     1761250.0   \n",
       "\n",
       "   transaction_count  \n",
       "0                 35  \n",
       "1                129  \n",
       "3               1264  \n",
       "4                231  \n",
       "5                 32  "
      ]
     },
     "execution_count": 6,
     "metadata": {},
     "output_type": "execute_result"
    }
   ],
   "source": [
    "# Display clean DF\n",
    "house_price_df.head()"
   ]
  },
  {
   "cell_type": "code",
   "execution_count": 7,
   "id": "367225d7-f34e-4c7e-8376-d93ffda74308",
   "metadata": {},
   "outputs": [
    {
     "name": "stdout",
     "output_type": "stream",
     "text": [
      "['East Melbourne' 'Melbourne (CBD)' 'North Melbourne' 'Parkville'\n",
      " 'South Yarra' 'Southbank' 'Carlton' 'West Melbourne (Residential)'\n",
      " 'Docklands' 'Kensington' 'Melbourne (Remainder)' 'NA']\n"
     ]
    }
   ],
   "source": [
    "# Get unique small areas\n",
    "print(house_price_df[\"small_area\"].unique())"
   ]
  },
  {
   "cell_type": "code",
   "execution_count": 24,
   "id": "77944876-2f23-404f-acdf-a73eb32b4751",
   "metadata": {},
   "outputs": [
    {
     "name": "stdout",
     "output_type": "stream",
     "text": [
      "   sale_year_x                    small_area                   type\n",
      "0         2003                       Carlton  Residential Apartment\n",
      "1         2003                     Docklands  Residential Apartment\n",
      "2         2003                East Melbourne  Residential Apartment\n",
      "3         2003                     Southbank  Residential Apartment\n",
      "4         2003  West Melbourne (Residential)  Residential Apartment\n",
      "5         2003                    Kensington  Residential Apartment\n",
      "6         2003               Melbourne (CBD)  Residential Apartment\n",
      "7         2003         Melbourne (Remainder)  Residential Apartment\n",
      "8         2003                     Parkville        House/Townhouse\n",
      "9         2003  West Melbourne (Residential)        House/Townhouse\n",
      "10        2003                       Carlton        House/Townhouse\n",
      "11        2003                East Melbourne        House/Townhouse\n",
      "12        2003                    Kensington        House/Townhouse\n",
      "13        2003               North Melbourne        House/Townhouse\n",
      "14        2003               North Melbourne  Residential Apartment\n",
      "15        2003                     Parkville  Residential Apartment\n",
      "16        2003                   South Yarra        House/Townhouse\n",
      "17        2003                   South Yarra  Residential Apartment\n",
      "\n",
      "\n",
      "\n",
      "   sale_year_x                    small_area                   type\n",
      "0         2005                       Carlton  Residential Apartment\n",
      "1         2005                     Docklands  Residential Apartment\n",
      "2         2005                East Melbourne  Residential Apartment\n",
      "3         2005         Melbourne (Remainder)  Residential Apartment\n",
      "4         2005               North Melbourne  Residential Apartment\n",
      "5         2005                     Parkville  Residential Apartment\n",
      "6         2005                       Carlton        House/Townhouse\n",
      "7         2005                    Kensington        House/Townhouse\n",
      "8         2005                    Kensington  Residential Apartment\n",
      "9         2005               Melbourne (CBD)  Residential Apartment\n",
      "10        2005                   South Yarra  Residential Apartment\n",
      "11        2005                     Southbank  Residential Apartment\n",
      "12        2005  West Melbourne (Residential)  Residential Apartment\n",
      "13        2005                East Melbourne        House/Townhouse\n",
      "14        2005               North Melbourne        House/Townhouse\n",
      "15        2005                     Parkville        House/Townhouse\n",
      "16        2005                   South Yarra        House/Townhouse\n",
      "17        2005  West Melbourne (Residential)        House/Townhouse\n",
      "\n",
      "\n",
      "\n",
      "   sale_year_x                    small_area                   type\n",
      "0         2007                       Carlton        House/Townhouse\n",
      "1         2007                       Carlton  Residential Apartment\n",
      "2         2007                     Docklands        House/Townhouse\n",
      "3         2007         Melbourne (Remainder)  Residential Apartment\n",
      "4         2007               North Melbourne  Residential Apartment\n",
      "5         2007  West Melbourne (Residential)        House/Townhouse\n",
      "6         2007  West Melbourne (Residential)  Residential Apartment\n",
      "7         2007                East Melbourne        House/Townhouse\n",
      "8         2007                    Kensington        House/Townhouse\n",
      "9         2007                     Parkville        House/Townhouse\n",
      "10        2007                   South Yarra  Residential Apartment\n",
      "11        2007                     Docklands  Residential Apartment\n",
      "12        2007                East Melbourne  Residential Apartment\n",
      "13        2007                    Kensington  Residential Apartment\n",
      "14        2007               Melbourne (CBD)  Residential Apartment\n",
      "15        2007               North Melbourne        House/Townhouse\n",
      "16        2007                     Parkville  Residential Apartment\n",
      "17        2007                   South Yarra        House/Townhouse\n",
      "18        2007                     Southbank  Residential Apartment\n",
      "\n",
      "\n",
      "\n",
      "   sale_year_x                    small_area                   type\n",
      "0         2009                     Docklands  Residential Apartment\n",
      "1         2009               Melbourne (CBD)  Residential Apartment\n",
      "2         2009                     Parkville  Residential Apartment\n",
      "3         2009                     Southbank  Residential Apartment\n",
      "4         2009  West Melbourne (Residential)  Residential Apartment\n",
      "5         2009                       Carlton        House/Townhouse\n",
      "6         2009                       Carlton  Residential Apartment\n",
      "7         2009                    Kensington        House/Townhouse\n",
      "8         2009               North Melbourne        House/Townhouse\n",
      "9         2009               North Melbourne  Residential Apartment\n",
      "10        2009                     Parkville        House/Townhouse\n",
      "11        2009                East Melbourne        House/Townhouse\n",
      "12        2009                East Melbourne  Residential Apartment\n",
      "13        2009                    Kensington  Residential Apartment\n",
      "14        2009         Melbourne (Remainder)  Residential Apartment\n",
      "15        2009                   South Yarra        House/Townhouse\n",
      "16        2009                   South Yarra  Residential Apartment\n",
      "17        2009                     Southbank        House/Townhouse\n",
      "18        2009  West Melbourne (Residential)        House/Townhouse\n",
      "\n",
      "\n",
      "\n",
      "   sale_year_x                    small_area                   type\n",
      "0         2011               North Melbourne  Residential Apartment\n",
      "1         2011                   South Yarra        House/Townhouse\n",
      "2         2011  West Melbourne (Residential)        House/Townhouse\n",
      "3         2011                       Carlton  Residential Apartment\n",
      "4         2011                     Docklands        House/Townhouse\n",
      "5         2011                East Melbourne        House/Townhouse\n",
      "6         2011         Melbourne (Remainder)  Residential Apartment\n",
      "7         2011                     Parkville        House/Townhouse\n",
      "8         2011                   South Yarra  Residential Apartment\n",
      "9         2011  West Melbourne (Residential)  Residential Apartment\n",
      "10        2011                       Carlton        House/Townhouse\n",
      "11        2011                     Docklands  Residential Apartment\n",
      "12        2011                East Melbourne  Residential Apartment\n",
      "13        2011                    Kensington        House/Townhouse\n",
      "14        2011                    Kensington  Residential Apartment\n",
      "15        2011               Melbourne (CBD)  Residential Apartment\n",
      "16        2011               North Melbourne        House/Townhouse\n",
      "17        2011                     Parkville  Residential Apartment\n",
      "18        2011                     Southbank  Residential Apartment\n",
      "\n",
      "\n",
      "\n",
      "   sale_year_x                    small_area                   type\n",
      "0         2013                       Carlton  Residential Apartment\n",
      "1         2013                     Parkville        House/Townhouse\n",
      "2         2013                     Parkville  Residential Apartment\n",
      "3         2013                       Carlton        House/Townhouse\n",
      "4         2013                     Docklands  Residential Apartment\n",
      "5         2013                East Melbourne        House/Townhouse\n",
      "6         2013                    Kensington        House/Townhouse\n",
      "7         2013               Melbourne (CBD)  Residential Apartment\n",
      "8         2013               North Melbourne        House/Townhouse\n",
      "9         2013               North Melbourne  Residential Apartment\n",
      "10        2013                   South Yarra        House/Townhouse\n",
      "11        2013  West Melbourne (Residential)        House/Townhouse\n",
      "12        2013                East Melbourne  Residential Apartment\n",
      "13        2013                    Kensington  Residential Apartment\n",
      "14        2013         Melbourne (Remainder)  Residential Apartment\n",
      "15        2013                   South Yarra  Residential Apartment\n",
      "16        2013                     Southbank  Residential Apartment\n",
      "17        2013  West Melbourne (Residential)  Residential Apartment\n",
      "\n",
      "\n",
      "\n",
      "   sale_year_x                    small_area                   type\n",
      "0         2015               Melbourne (CBD)  Residential Apartment\n",
      "1         2015                       Carlton        House/Townhouse\n",
      "2         2015               North Melbourne  Residential Apartment\n",
      "3         2015                     Parkville  Residential Apartment\n",
      "4         2015                   South Yarra  Residential Apartment\n",
      "5         2015                     Southbank  Residential Apartment\n",
      "6         2015                       Carlton  Residential Apartment\n",
      "7         2015                     Docklands  Residential Apartment\n",
      "8         2015                East Melbourne        House/Townhouse\n",
      "9         2015                East Melbourne  Residential Apartment\n",
      "10        2015                    Kensington        House/Townhouse\n",
      "11        2015                    Kensington  Residential Apartment\n",
      "12        2015         Melbourne (Remainder)  Residential Apartment\n",
      "13        2015               North Melbourne        House/Townhouse\n",
      "14        2015                     Parkville        House/Townhouse\n",
      "15        2015                   South Yarra        House/Townhouse\n",
      "16        2015  West Melbourne (Residential)        House/Townhouse\n",
      "17        2015  West Melbourne (Residential)  Residential Apartment\n",
      "\n",
      "\n",
      "\n"
     ]
    }
   ],
   "source": [
    "# Modifying house_price_df for 2 year ranges, to compare with Income Data\n",
    "starting_years = list(range(2003,2015 + 1,2))\n",
    "\n",
    "# empty list to store new dictionaries\n",
    "houseTH_median_price_two_year_dict = {}\n",
    "houseTH_sum_transactions_two_year_dict = {}\n",
    "ResApt_median_price_two_year_dict = {}\n",
    "ResApt_sum_transactions_two_year_dict = {}\n",
    "\n",
    "# loop through year ranges\n",
    "for year in starting_years:\n",
    "    st_year = house_price_df[house_price_df[\"sale_year\"] == str(year)]\n",
    "    en_year = house_price_df[house_price_df[\"sale_year\"] == str(year + 1)]\n",
    "\n",
    "    # get intersection\n",
    "    two_year = pd.merge(st_year, en_year, how ='inner', on =['small_area', 'type']) \n",
    "    average_2y = (two_year[\"median_price_x\"] + two_year[\"median_price_y\"])/2\n",
    "\n",
    "    # get rid of \"Docklands House/Townhouse\" and \"Southbank House/Townhouse\"\n",
    "\n",
    "    # for House/Townhouses\n",
    "    # add together transaction counts, and average median prices\n",
    "    \n",
    "    # for Residential Apartment\n",
    "    # add together transaction counts, and average median prices\n",
    "\n",
    "    \n",
    "    # make new dictionary - merge all dictionaries later\n",
    "    temp = {}\n",
    "    #temp.[f\"%s-%s\" % (year, year + 1)] = average_2y[\"small_area\"].tolist()\n",
    "    \n",
    "    print(two_year[[\"sale_year_x\",\"small_area\",\"type\"]])\n",
    "    print(\"\\n\\n\")\n"
   ]
  },
  {
   "cell_type": "markdown",
   "id": "e8565311-d680-4f0f-8357-04b10083e6a3",
   "metadata": {},
   "source": [
    "# Importing the Household Income data from the ABS\n",
    "(LM)"
   ]
  },
  {
   "cell_type": "code",
   "execution_count": 8,
   "id": "2f4928ee-97bf-46a4-aa10-91dfe6214f3e",
   "metadata": {},
   "outputs": [],
   "source": [
    "# Specify the path to your Excel file\n",
    "household_income_data = \"Resources/5204055011do001.xlsx\"  "
   ]
  },
  {
   "cell_type": "code",
   "execution_count": 9,
   "id": "49eba56b-cdd3-4130-8c7a-e1f8a5399f15",
   "metadata": {},
   "outputs": [],
   "source": [
    "# Define the row indices to skip\n",
    "rows_to_skip = list(range(0, 6)) + [7] + list(range(9, 26)) + list(range(27, 40)) + list(range(42, 127))  "
   ]
  },
  {
   "cell_type": "code",
   "execution_count": 10,
   "id": "4d9e4763-6776-4ffa-9014-5006cc937d8b",
   "metadata": {},
   "outputs": [],
   "source": [
    "# Read ABS income data file and store into Pandas DataFrames\n",
    "dfs = pd.read_excel(household_income_data, sheet_name=None, skiprows=rows_to_skip)  "
   ]
  },
  {
   "cell_type": "code",
   "execution_count": 11,
   "id": "7ac9e75c-7c37-49a0-998e-d9d8910f5428",
   "metadata": {},
   "outputs": [],
   "source": [
    "# Create an empty list to store DataFrames with tab names as a column\n",
    "dfs_with_tab_name = [] "
   ]
  },
  {
   "cell_type": "code",
   "execution_count": 12,
   "id": "34386d24-ae28-4878-b8b0-087d5a0772af",
   "metadata": {},
   "outputs": [],
   "source": [
    "# Flag to skip the first and last tab\n",
    "skip_first_tab = True\n",
    "skip_last_tab = False"
   ]
  },
  {
   "cell_type": "code",
   "execution_count": 13,
   "id": "ebf11f40-b491-48a7-8333-7447a37cbd33",
   "metadata": {},
   "outputs": [],
   "source": [
    "# Iterate over each sheet in the dictionary\n",
    "for sheet_name, df in dfs.items():\n",
    "    if skip_first_tab:\n",
    "        skip_first_tab = False\n",
    "        continue  # Skip processing the first tab\n",
    "        \n",
    "    if skip_last_tab:\n",
    "        break  # Exit the loop if the last tab is reached\n",
    "        \n",
    "    # Determine the column indices dynamically based on the actual number of columns\n",
    "    num_cols = min(7, len(df.columns))\n",
    "    \n",
    "    # Ensure we don't exceed the number of columns in the DataFrame\n",
    "    columns_to_read = list(range(num_cols))\n",
    "    \n",
    "    # Select only the specified columns\n",
    "    df_selected = df.iloc[:, columns_to_read].copy()\n",
    "    \n",
    "    # Add a new column with the tab name to the selected DataFrame using loc\n",
    "    df_selected.loc[:, 'Year/s'] = sheet_name\n",
    "    \n",
    "    # Append the modified DataFrame to the list\n",
    "    dfs_with_tab_name.append(df_selected)    "
   ]
  },
  {
   "cell_type": "code",
   "execution_count": 14,
   "id": "295938b6-8dbd-48fd-9f5f-bce76aa564da",
   "metadata": {},
   "outputs": [],
   "source": [
    "# Concatenate all DataFrames in the list into a single DataFrame\n",
    "combined_df = pd.concat(dfs_with_tab_name, ignore_index=True)  "
   ]
  },
  {
   "cell_type": "code",
   "execution_count": 15,
   "id": "74e7a2cd-e520-4718-8bb8-c3993984e9d1",
   "metadata": {},
   "outputs": [],
   "source": [
    "# Define a dictionary to map old values to new values\n",
    "value_mapping = {'Table 1.1': '2003-2004', 'Table 1.2': '2005-2006', 'Table 1.3': '2007-2008', 'Table 1.4': '2009-2010', 'Table 1.5': '2011-2012', 'Table 1.6': '2013-2014', 'Table 1.7': '2015-2016', 'Table 1.8': '2017-2018', 'Table 1.9': '2019-2020', 'Table 1.10': '2020-2021', 'Table 1.11': '2021-2022', 'Explanatory Notes': '', 'tab_name': 'Year/s'}"
   ]
  },
  {
   "cell_type": "code",
   "execution_count": 16,
   "id": "430bb218-fba5-44ce-8f71-033a7c872261",
   "metadata": {},
   "outputs": [],
   "source": [
    "# Replace values in column 'tab_name' using the value_mapping dictionary\n",
    "combined_df['Year/s'] = combined_df['Year/s'].replace(value_mapping)"
   ]
  },
  {
   "cell_type": "code",
   "execution_count": 17,
   "id": "629d79ef-157e-4596-88fc-d042732663d8",
   "metadata": {},
   "outputs": [],
   "source": [
    "# Remove rows where column 'Year/s' has value '2020-2021' or '2021-2022'\n",
    "values_to_remove = ['2020-2021', '2021-2022']\n",
    "cleaned_df = combined_df[~combined_df['Year/s'].isin(values_to_remove)]"
   ]
  },
  {
   "cell_type": "code",
   "execution_count": 18,
   "id": "8379a6e0-99e2-4886-9244-c8d25ba99eab",
   "metadata": {},
   "outputs": [],
   "source": [
    "# Convert values to numeric data type\n",
    "cleaned_df.loc[:, 'Wages and salaries'] = cleaned_df['Wages and salaries'].astype(float)\n",
    "cleaned_df.loc[:, 'Income from  unincorporated business (a)'] = cleaned_df['Income from  unincorporated business (a)'].astype(float)\n",
    "cleaned_df.loc[:, 'Property income and superannuation'] = cleaned_df['Property income and superannuation'].astype(float)\n",
    "cleaned_df.loc[:, 'Government pensions and allowances'] = cleaned_df['Government pensions and allowances'].astype(float)\n",
    "cleaned_df.loc[:, 'Other'] = cleaned_df['Other'].astype(float)\n",
    "cleaned_df.loc[:, 'All households (b)'] = cleaned_df['All households (b)'].astype(float)\n",
    "cleaned_df.loc[:, 'Year/s'] = cleaned_df['Year/s'].astype(str)"
   ]
  },
  {
   "cell_type": "code",
   "execution_count": 19,
   "id": "b1a35064-014c-4c83-9acf-7ef8b5a7ab82",
   "metadata": {},
   "outputs": [],
   "source": [
    "# Specify the file path for the CSV file\n",
    "csv_file_path = 'ABS_income_data.csv'  "
   ]
  },
  {
   "cell_type": "code",
   "execution_count": 20,
   "id": "4028d6e5-4200-496d-ac88-1383faf42bed",
   "metadata": {},
   "outputs": [],
   "source": [
    "# Save the DataFrame to a CSV file\n",
    "cleaned_df.to_csv(csv_file_path, index=False) "
   ]
  },
  {
   "cell_type": "code",
   "execution_count": 21,
   "id": "6ac8c657-ea59-4030-a99f-b6e21402dada",
   "metadata": {},
   "outputs": [
    {
     "name": "stdout",
     "output_type": "stream",
     "text": [
      "DataFrame successfully saved to 'ABS_income_data.csv'.\n"
     ]
    }
   ],
   "source": [
    "print(f\"DataFrame successfully saved to '{csv_file_path}'.\")"
   ]
  },
  {
   "cell_type": "code",
   "execution_count": 22,
   "id": "be866ddd-8537-4d95-9810-ea2a03caefe8",
   "metadata": {},
   "outputs": [],
   "source": [
    "# Create a pivot table with 'Category' as rows, 'Year' as columns, and 'Value' as values\n",
    "pivot_df = cleaned_df.pivot_table(columns='Year/s', values='All households (b)', aggfunc='sum')\n"
   ]
  },
  {
   "cell_type": "code",
   "execution_count": 23,
   "id": "3775ff2f-699a-4c9c-8cda-4231d93c3917",
   "metadata": {},
   "outputs": [],
   "source": [
    "# rename the index as \"Household income\"\n",
    "pivot_df = cleaned_df.pivot_table(index='Unnamed: 0', columns='Year/s', values='All households (b)', aggfunc='sum')\n",
    "pivot_df = pivot_df.rename_axis('Household income')"
   ]
  },
  {
   "cell_type": "code",
   "execution_count": 24,
   "id": "3d92a63a-2ee9-413f-b89c-e57d3f633ad4",
   "metadata": {},
   "outputs": [
    {
     "data": {
      "text/html": [
       "<div>\n",
       "<style scoped>\n",
       "    .dataframe tbody tr th:only-of-type {\n",
       "        vertical-align: middle;\n",
       "    }\n",
       "\n",
       "    .dataframe tbody tr th {\n",
       "        vertical-align: top;\n",
       "    }\n",
       "\n",
       "    .dataframe thead th {\n",
       "        text-align: right;\n",
       "    }\n",
       "</style>\n",
       "<table border=\"1\" class=\"dataframe\">\n",
       "  <thead>\n",
       "    <tr style=\"text-align: right;\">\n",
       "      <th>Year/s</th>\n",
       "      <th>2003-2004</th>\n",
       "      <th>2005-2006</th>\n",
       "      <th>2007-2008</th>\n",
       "      <th>2009-2010</th>\n",
       "      <th>2011-2012</th>\n",
       "      <th>2013-2014</th>\n",
       "      <th>2015-2016</th>\n",
       "      <th>2017-2018</th>\n",
       "      <th>2019-2020</th>\n",
       "    </tr>\n",
       "    <tr>\n",
       "      <th>Household income</th>\n",
       "      <th></th>\n",
       "      <th></th>\n",
       "      <th></th>\n",
       "      <th></th>\n",
       "      <th></th>\n",
       "      <th></th>\n",
       "      <th></th>\n",
       "      <th></th>\n",
       "      <th></th>\n",
       "    </tr>\n",
       "  </thead>\n",
       "  <tbody>\n",
       "    <tr>\n",
       "      <th>Estimated number of households in population</th>\n",
       "      <td>7954585.0</td>\n",
       "      <td>8160856.0</td>\n",
       "      <td>8327818.0</td>\n",
       "      <td>8664857.0</td>\n",
       "      <td>8912566.0</td>\n",
       "      <td>9048583.0</td>\n",
       "      <td>9246191.0</td>\n",
       "      <td>9554316.0</td>\n",
       "      <td>10016972.0</td>\n",
       "    </tr>\n",
       "    <tr>\n",
       "      <th>Gross disposable income</th>\n",
       "      <td>536356.0</td>\n",
       "      <td>608301.0</td>\n",
       "      <td>725929.0</td>\n",
       "      <td>827246.0</td>\n",
       "      <td>939989.0</td>\n",
       "      <td>1022855.0</td>\n",
       "      <td>1095050.0</td>\n",
       "      <td>1165497.0</td>\n",
       "      <td>1282944.0</td>\n",
       "    </tr>\n",
       "    <tr>\n",
       "      <th>Total gross income</th>\n",
       "      <td>711537.0</td>\n",
       "      <td>819132.0</td>\n",
       "      <td>985903.0</td>\n",
       "      <td>1083258.0</td>\n",
       "      <td>1248033.0</td>\n",
       "      <td>1336473.0</td>\n",
       "      <td>1433237.0</td>\n",
       "      <td>1530133.0</td>\n",
       "      <td>1656039.0</td>\n",
       "    </tr>\n",
       "    <tr>\n",
       "      <th>Total income payable</th>\n",
       "      <td>175181.0</td>\n",
       "      <td>210831.0</td>\n",
       "      <td>259974.0</td>\n",
       "      <td>256011.0</td>\n",
       "      <td>308044.0</td>\n",
       "      <td>313618.0</td>\n",
       "      <td>338187.0</td>\n",
       "      <td>364636.0</td>\n",
       "      <td>373095.0</td>\n",
       "    </tr>\n",
       "  </tbody>\n",
       "</table>\n",
       "</div>"
      ],
      "text/plain": [
       "Year/s                                        2003-2004  2005-2006  2007-2008  \\\n",
       "Household income                                                                \n",
       "Estimated number of households in population  7954585.0  8160856.0  8327818.0   \n",
       "Gross disposable income                        536356.0   608301.0   725929.0   \n",
       "Total gross income                             711537.0   819132.0   985903.0   \n",
       "Total income payable                           175181.0   210831.0   259974.0   \n",
       "\n",
       "Year/s                                        2009-2010  2011-2012  2013-2014  \\\n",
       "Household income                                                                \n",
       "Estimated number of households in population  8664857.0  8912566.0  9048583.0   \n",
       "Gross disposable income                        827246.0   939989.0  1022855.0   \n",
       "Total gross income                            1083258.0  1248033.0  1336473.0   \n",
       "Total income payable                           256011.0   308044.0   313618.0   \n",
       "\n",
       "Year/s                                        2015-2016  2017-2018   2019-2020  \n",
       "Household income                                                                \n",
       "Estimated number of households in population  9246191.0  9554316.0  10016972.0  \n",
       "Gross disposable income                       1095050.0  1165497.0   1282944.0  \n",
       "Total gross income                            1433237.0  1530133.0   1656039.0  \n",
       "Total income payable                           338187.0   364636.0    373095.0  "
      ]
     },
     "execution_count": 24,
     "metadata": {},
     "output_type": "execute_result"
    }
   ],
   "source": [
    "household_income_df = pivot_df\n",
    "household_income_df.head()"
   ]
  },
  {
   "cell_type": "markdown",
   "id": "c039b0f2-16d1-4d60-93be-a92e041f2fa5",
   "metadata": {},
   "source": [
    "# Importing the Population and Suburb data from the ABS\n",
    "(ED)"
   ]
  },
  {
   "cell_type": "code",
   "execution_count": 25,
   "id": "95b69aa6-8ae2-4d80-9f48-d9865e1b67e0",
   "metadata": {},
   "outputs": [],
   "source": [
    "# Files to Load\n",
    "population_data_to_load_2021 = (\"../Project_1/2021_GCP_SAL_for_VIC_short-header/2021 Census GCP Suburbs and Localities for VIC/2021Census_G03_VIC_SAL.csv\")\n",
    "suburb_name_data_to_load_2021 = (\"../Project_1/2021_GCP_SAL_for_VIC_short-header/Metadata/2021Census_geog_desc_1st_2nd_3rd_release.xlsx\")"
   ]
  },
  {
   "cell_type": "code",
   "execution_count": 26,
   "id": "2051f900-446d-4e4f-bd90-b1f6c546204e",
   "metadata": {},
   "outputs": [
    {
     "ename": "FileNotFoundError",
     "evalue": "[Errno 2] No such file or directory: '../Project_1/2021_GCP_SAL_for_VIC_short-header/2021 Census GCP Suburbs and Localities for VIC/2021Census_G03_VIC_SAL.csv'",
     "output_type": "error",
     "traceback": [
      "\u001b[1;31m---------------------------------------------------------------------------\u001b[0m",
      "\u001b[1;31mFileNotFoundError\u001b[0m                         Traceback (most recent call last)",
      "Cell \u001b[1;32mIn[26], line 2\u001b[0m\n\u001b[0;32m      1\u001b[0m \u001b[38;5;66;03m# Read Population data into Pandas DataFrames\u001b[39;00m\n\u001b[1;32m----> 2\u001b[0m population_data_2021_df \u001b[38;5;241m=\u001b[39m pd\u001b[38;5;241m.\u001b[39mread_csv(population_data_to_load_2021)\n\u001b[0;32m      4\u001b[0m \u001b[38;5;66;03m# Read population and Suburb data into Pandas DataFrames and specifiy which worksheet number to be read in suburb file\u001b[39;00m\n\u001b[0;32m      5\u001b[0m sheet_name \u001b[38;5;241m=\u001b[39m \u001b[38;5;241m0\u001b[39m\n",
      "File \u001b[1;32m~\\anaconda3\\Lib\\site-packages\\pandas\\io\\parsers\\readers.py:948\u001b[0m, in \u001b[0;36mread_csv\u001b[1;34m(filepath_or_buffer, sep, delimiter, header, names, index_col, usecols, dtype, engine, converters, true_values, false_values, skipinitialspace, skiprows, skipfooter, nrows, na_values, keep_default_na, na_filter, verbose, skip_blank_lines, parse_dates, infer_datetime_format, keep_date_col, date_parser, date_format, dayfirst, cache_dates, iterator, chunksize, compression, thousands, decimal, lineterminator, quotechar, quoting, doublequote, escapechar, comment, encoding, encoding_errors, dialect, on_bad_lines, delim_whitespace, low_memory, memory_map, float_precision, storage_options, dtype_backend)\u001b[0m\n\u001b[0;32m    935\u001b[0m kwds_defaults \u001b[38;5;241m=\u001b[39m _refine_defaults_read(\n\u001b[0;32m    936\u001b[0m     dialect,\n\u001b[0;32m    937\u001b[0m     delimiter,\n\u001b[1;32m   (...)\u001b[0m\n\u001b[0;32m    944\u001b[0m     dtype_backend\u001b[38;5;241m=\u001b[39mdtype_backend,\n\u001b[0;32m    945\u001b[0m )\n\u001b[0;32m    946\u001b[0m kwds\u001b[38;5;241m.\u001b[39mupdate(kwds_defaults)\n\u001b[1;32m--> 948\u001b[0m \u001b[38;5;28;01mreturn\u001b[39;00m _read(filepath_or_buffer, kwds)\n",
      "File \u001b[1;32m~\\anaconda3\\Lib\\site-packages\\pandas\\io\\parsers\\readers.py:611\u001b[0m, in \u001b[0;36m_read\u001b[1;34m(filepath_or_buffer, kwds)\u001b[0m\n\u001b[0;32m    608\u001b[0m _validate_names(kwds\u001b[38;5;241m.\u001b[39mget(\u001b[38;5;124m\"\u001b[39m\u001b[38;5;124mnames\u001b[39m\u001b[38;5;124m\"\u001b[39m, \u001b[38;5;28;01mNone\u001b[39;00m))\n\u001b[0;32m    610\u001b[0m \u001b[38;5;66;03m# Create the parser.\u001b[39;00m\n\u001b[1;32m--> 611\u001b[0m parser \u001b[38;5;241m=\u001b[39m TextFileReader(filepath_or_buffer, \u001b[38;5;241m*\u001b[39m\u001b[38;5;241m*\u001b[39mkwds)\n\u001b[0;32m    613\u001b[0m \u001b[38;5;28;01mif\u001b[39;00m chunksize \u001b[38;5;129;01mor\u001b[39;00m iterator:\n\u001b[0;32m    614\u001b[0m     \u001b[38;5;28;01mreturn\u001b[39;00m parser\n",
      "File \u001b[1;32m~\\anaconda3\\Lib\\site-packages\\pandas\\io\\parsers\\readers.py:1448\u001b[0m, in \u001b[0;36mTextFileReader.__init__\u001b[1;34m(self, f, engine, **kwds)\u001b[0m\n\u001b[0;32m   1445\u001b[0m     \u001b[38;5;28mself\u001b[39m\u001b[38;5;241m.\u001b[39moptions[\u001b[38;5;124m\"\u001b[39m\u001b[38;5;124mhas_index_names\u001b[39m\u001b[38;5;124m\"\u001b[39m] \u001b[38;5;241m=\u001b[39m kwds[\u001b[38;5;124m\"\u001b[39m\u001b[38;5;124mhas_index_names\u001b[39m\u001b[38;5;124m\"\u001b[39m]\n\u001b[0;32m   1447\u001b[0m \u001b[38;5;28mself\u001b[39m\u001b[38;5;241m.\u001b[39mhandles: IOHandles \u001b[38;5;241m|\u001b[39m \u001b[38;5;28;01mNone\u001b[39;00m \u001b[38;5;241m=\u001b[39m \u001b[38;5;28;01mNone\u001b[39;00m\n\u001b[1;32m-> 1448\u001b[0m \u001b[38;5;28mself\u001b[39m\u001b[38;5;241m.\u001b[39m_engine \u001b[38;5;241m=\u001b[39m \u001b[38;5;28mself\u001b[39m\u001b[38;5;241m.\u001b[39m_make_engine(f, \u001b[38;5;28mself\u001b[39m\u001b[38;5;241m.\u001b[39mengine)\n",
      "File \u001b[1;32m~\\anaconda3\\Lib\\site-packages\\pandas\\io\\parsers\\readers.py:1705\u001b[0m, in \u001b[0;36mTextFileReader._make_engine\u001b[1;34m(self, f, engine)\u001b[0m\n\u001b[0;32m   1703\u001b[0m     \u001b[38;5;28;01mif\u001b[39;00m \u001b[38;5;124m\"\u001b[39m\u001b[38;5;124mb\u001b[39m\u001b[38;5;124m\"\u001b[39m \u001b[38;5;129;01mnot\u001b[39;00m \u001b[38;5;129;01min\u001b[39;00m mode:\n\u001b[0;32m   1704\u001b[0m         mode \u001b[38;5;241m+\u001b[39m\u001b[38;5;241m=\u001b[39m \u001b[38;5;124m\"\u001b[39m\u001b[38;5;124mb\u001b[39m\u001b[38;5;124m\"\u001b[39m\n\u001b[1;32m-> 1705\u001b[0m \u001b[38;5;28mself\u001b[39m\u001b[38;5;241m.\u001b[39mhandles \u001b[38;5;241m=\u001b[39m get_handle(\n\u001b[0;32m   1706\u001b[0m     f,\n\u001b[0;32m   1707\u001b[0m     mode,\n\u001b[0;32m   1708\u001b[0m     encoding\u001b[38;5;241m=\u001b[39m\u001b[38;5;28mself\u001b[39m\u001b[38;5;241m.\u001b[39moptions\u001b[38;5;241m.\u001b[39mget(\u001b[38;5;124m\"\u001b[39m\u001b[38;5;124mencoding\u001b[39m\u001b[38;5;124m\"\u001b[39m, \u001b[38;5;28;01mNone\u001b[39;00m),\n\u001b[0;32m   1709\u001b[0m     compression\u001b[38;5;241m=\u001b[39m\u001b[38;5;28mself\u001b[39m\u001b[38;5;241m.\u001b[39moptions\u001b[38;5;241m.\u001b[39mget(\u001b[38;5;124m\"\u001b[39m\u001b[38;5;124mcompression\u001b[39m\u001b[38;5;124m\"\u001b[39m, \u001b[38;5;28;01mNone\u001b[39;00m),\n\u001b[0;32m   1710\u001b[0m     memory_map\u001b[38;5;241m=\u001b[39m\u001b[38;5;28mself\u001b[39m\u001b[38;5;241m.\u001b[39moptions\u001b[38;5;241m.\u001b[39mget(\u001b[38;5;124m\"\u001b[39m\u001b[38;5;124mmemory_map\u001b[39m\u001b[38;5;124m\"\u001b[39m, \u001b[38;5;28;01mFalse\u001b[39;00m),\n\u001b[0;32m   1711\u001b[0m     is_text\u001b[38;5;241m=\u001b[39mis_text,\n\u001b[0;32m   1712\u001b[0m     errors\u001b[38;5;241m=\u001b[39m\u001b[38;5;28mself\u001b[39m\u001b[38;5;241m.\u001b[39moptions\u001b[38;5;241m.\u001b[39mget(\u001b[38;5;124m\"\u001b[39m\u001b[38;5;124mencoding_errors\u001b[39m\u001b[38;5;124m\"\u001b[39m, \u001b[38;5;124m\"\u001b[39m\u001b[38;5;124mstrict\u001b[39m\u001b[38;5;124m\"\u001b[39m),\n\u001b[0;32m   1713\u001b[0m     storage_options\u001b[38;5;241m=\u001b[39m\u001b[38;5;28mself\u001b[39m\u001b[38;5;241m.\u001b[39moptions\u001b[38;5;241m.\u001b[39mget(\u001b[38;5;124m\"\u001b[39m\u001b[38;5;124mstorage_options\u001b[39m\u001b[38;5;124m\"\u001b[39m, \u001b[38;5;28;01mNone\u001b[39;00m),\n\u001b[0;32m   1714\u001b[0m )\n\u001b[0;32m   1715\u001b[0m \u001b[38;5;28;01massert\u001b[39;00m \u001b[38;5;28mself\u001b[39m\u001b[38;5;241m.\u001b[39mhandles \u001b[38;5;129;01mis\u001b[39;00m \u001b[38;5;129;01mnot\u001b[39;00m \u001b[38;5;28;01mNone\u001b[39;00m\n\u001b[0;32m   1716\u001b[0m f \u001b[38;5;241m=\u001b[39m \u001b[38;5;28mself\u001b[39m\u001b[38;5;241m.\u001b[39mhandles\u001b[38;5;241m.\u001b[39mhandle\n",
      "File \u001b[1;32m~\\anaconda3\\Lib\\site-packages\\pandas\\io\\common.py:863\u001b[0m, in \u001b[0;36mget_handle\u001b[1;34m(path_or_buf, mode, encoding, compression, memory_map, is_text, errors, storage_options)\u001b[0m\n\u001b[0;32m    858\u001b[0m \u001b[38;5;28;01melif\u001b[39;00m \u001b[38;5;28misinstance\u001b[39m(handle, \u001b[38;5;28mstr\u001b[39m):\n\u001b[0;32m    859\u001b[0m     \u001b[38;5;66;03m# Check whether the filename is to be opened in binary mode.\u001b[39;00m\n\u001b[0;32m    860\u001b[0m     \u001b[38;5;66;03m# Binary mode does not support 'encoding' and 'newline'.\u001b[39;00m\n\u001b[0;32m    861\u001b[0m     \u001b[38;5;28;01mif\u001b[39;00m ioargs\u001b[38;5;241m.\u001b[39mencoding \u001b[38;5;129;01mand\u001b[39;00m \u001b[38;5;124m\"\u001b[39m\u001b[38;5;124mb\u001b[39m\u001b[38;5;124m\"\u001b[39m \u001b[38;5;129;01mnot\u001b[39;00m \u001b[38;5;129;01min\u001b[39;00m ioargs\u001b[38;5;241m.\u001b[39mmode:\n\u001b[0;32m    862\u001b[0m         \u001b[38;5;66;03m# Encoding\u001b[39;00m\n\u001b[1;32m--> 863\u001b[0m         handle \u001b[38;5;241m=\u001b[39m \u001b[38;5;28mopen\u001b[39m(\n\u001b[0;32m    864\u001b[0m             handle,\n\u001b[0;32m    865\u001b[0m             ioargs\u001b[38;5;241m.\u001b[39mmode,\n\u001b[0;32m    866\u001b[0m             encoding\u001b[38;5;241m=\u001b[39mioargs\u001b[38;5;241m.\u001b[39mencoding,\n\u001b[0;32m    867\u001b[0m             errors\u001b[38;5;241m=\u001b[39merrors,\n\u001b[0;32m    868\u001b[0m             newline\u001b[38;5;241m=\u001b[39m\u001b[38;5;124m\"\u001b[39m\u001b[38;5;124m\"\u001b[39m,\n\u001b[0;32m    869\u001b[0m         )\n\u001b[0;32m    870\u001b[0m     \u001b[38;5;28;01melse\u001b[39;00m:\n\u001b[0;32m    871\u001b[0m         \u001b[38;5;66;03m# Binary mode\u001b[39;00m\n\u001b[0;32m    872\u001b[0m         handle \u001b[38;5;241m=\u001b[39m \u001b[38;5;28mopen\u001b[39m(handle, ioargs\u001b[38;5;241m.\u001b[39mmode)\n",
      "\u001b[1;31mFileNotFoundError\u001b[0m: [Errno 2] No such file or directory: '../Project_1/2021_GCP_SAL_for_VIC_short-header/2021 Census GCP Suburbs and Localities for VIC/2021Census_G03_VIC_SAL.csv'"
     ]
    }
   ],
   "source": [
    "# Read Population data into Pandas DataFrames\n",
    "population_data_2021_df = pd.read_csv(population_data_to_load_2021)\n",
    "\n",
    "# Read population and Suburb data into Pandas DataFrames and specifiy which worksheet number to be read in suburb file\n",
    "sheet_name = 0\n",
    "suburb_name_data_2021_df = pd.read_excel(\"../Project_1/2021_GCP_SAL_for_VIC_short-header/Metadata/2021Census_geog_desc_1st_2nd_3rd_release.xlsx\", sheet_name = 5)\n",
    "# Reference:https://pandas.pydata.org/pandas-docs/stable/reference/api/pandas.read_excel.html"
   ]
  },
  {
   "cell_type": "code",
   "execution_count": null,
   "id": "55dd35af-5aa5-424a-98b1-a018a4167762",
   "metadata": {},
   "outputs": [],
   "source": [
    "# Test only: Check data load for suburb data\n",
    "suburb_name_data_2021_df.head()"
   ]
  },
  {
   "cell_type": "code",
   "execution_count": null,
   "id": "ba61b738-29e4-4225-aa9d-de2e6e874a67",
   "metadata": {},
   "outputs": [],
   "source": [
    "# Rename column in Population data for allow DataFrames to merge\n",
    "population_data_2021_df= population_data_2021_df.rename(columns={\"SAL_CODE_2021\":\"Census_Code_2021\"})\n",
    "population_data_2021_df.head()"
   ]
  },
  {
   "cell_type": "code",
   "execution_count": null,
   "id": "99784ff1-1f1d-4ec5-b7ca-a4838938e9f7",
   "metadata": {},
   "outputs": [],
   "source": [
    "# Merge Population Data and Suburb Data DataFrames\n",
    "population_and_suburb_merged_df = pd.merge(population_data_2021_df, suburb_name_data_2021_df, how = \"left\", on=[\"Census_Code_2021\", \"Census_Code_2021\"])"
   ]
  },
  {
   "cell_type": "code",
   "execution_count": null,
   "id": "92487e18-dbf6-4a55-8b36-071c1ee81e58",
   "metadata": {},
   "outputs": [],
   "source": [
    "# Set Index to AGSS_Code_2021 and rename columns to meaningful headings\n",
    "population_and_suburb_data_df = population_and_suburb_merged_df.set_index([\"AGSS_Code_2021\"])\n",
    "population_and_suburb_data_df = population_and_suburb_data_df.rename(columns={\"Total_Total\":\"Total_Population\",\"Census_Name_2021\":\"Suburb_Name\"})"
   ]
  },
  {
   "cell_type": "code",
   "execution_count": null,
   "id": "e5b84767-4879-40fe-9fcb-26e163fbd956",
   "metadata": {},
   "outputs": [],
   "source": [
    "# Create final DataFrame with only the required columns\n",
    "population_and_suburb_df = population_and_suburb_data_df[[\"Census_Code_2021\",\"Suburb_Name\",\"Total_Population\",\"Area sqkm\"]]"
   ]
  },
  {
   "cell_type": "code",
   "execution_count": null,
   "id": "04ed1844-0abd-477b-aa62-5717ae15f5e0",
   "metadata": {},
   "outputs": [],
   "source": [
    "# Test only: Check final DataFrame with required columns\n",
    "population_and_suburb_df.head()"
   ]
  }
 ],
 "metadata": {
  "kernelspec": {
   "display_name": "Python 3 (ipykernel)",
   "language": "python",
   "name": "python3"
  },
  "language_info": {
   "codemirror_mode": {
    "name": "ipython",
    "version": 3
   },
   "file_extension": ".py",
   "mimetype": "text/x-python",
   "name": "python",
   "nbconvert_exporter": "python",
   "pygments_lexer": "ipython3",
   "version": "3.11.7"
  }
 },
 "nbformat": 4,
 "nbformat_minor": 5
}
