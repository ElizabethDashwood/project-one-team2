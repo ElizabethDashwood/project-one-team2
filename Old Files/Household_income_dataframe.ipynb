{
 "cells": [
  {
   "cell_type": "code",
   "execution_count": 613,
   "id": "3c4ec082-b6f3-40e5-acd2-0fda504915c2",
   "metadata": {},
   "outputs": [],
   "source": [
    "# Dependencies and Setup\n",
    "import pandas as pd  \n",
    "import numpy as np"
   ]
  },
  {
   "cell_type": "code",
   "execution_count": 614,
   "id": "8720110e-62ec-4632-9bcd-27f466d4f705",
   "metadata": {},
   "outputs": [],
   "source": [
    "# Specify the path to your Excel file\n",
    "household_income_data = \"Resources/5204055011do001.xlsx\"  "
   ]
  },
  {
   "cell_type": "code",
   "execution_count": 615,
   "id": "71a5ff94-d1d5-435d-b2af-65a958244729",
   "metadata": {},
   "outputs": [],
   "source": [
    "# Define the row indices to skip\n",
    "rows_to_skip = list(range(0, 6)) + [7] + list(range(9, 26)) + list(range(27, 40)) + list(range(42, 127))  "
   ]
  },
  {
   "cell_type": "code",
   "execution_count": 616,
   "id": "1fbd941a-8d58-42e7-8faa-9556c53595e9",
   "metadata": {},
   "outputs": [],
   "source": [
    "# Read ABS income data file and store into Pandas DataFrames\n",
    "dfs = pd.read_excel(household_income_data, sheet_name=None, skiprows=rows_to_skip)  "
   ]
  },
  {
   "cell_type": "code",
   "execution_count": 617,
   "id": "1f9d41bc-d17f-4986-b1f6-561d08ffb51d",
   "metadata": {},
   "outputs": [],
   "source": [
    "# Create an empty list to store DataFrames with tab names as a column\n",
    "dfs_with_tab_name = [] "
   ]
  },
  {
   "cell_type": "code",
   "execution_count": 618,
   "id": "6ae7ec10-89eb-4c7a-99d7-14449ab42c69",
   "metadata": {},
   "outputs": [],
   "source": [
    "# Flag to skip the first and last tab\n",
    "skip_first_tab = True\n",
    "skip_last_tab = False"
   ]
  },
  {
   "cell_type": "code",
   "execution_count": 619,
   "id": "72169c6a-b2b3-462a-99cc-1d0782540b85",
   "metadata": {},
   "outputs": [],
   "source": [
    "# Iterate over each sheet in the dictionary\n",
    "for sheet_name, df in dfs.items():\n",
    "    if skip_first_tab:\n",
    "        skip_first_tab = False\n",
    "        continue  # Skip processing the first tab\n",
    "        \n",
    "    if skip_last_tab:\n",
    "        break  # Exit the loop if the last tab is reached\n",
    "        \n",
    "    # Determine the column indices dynamically based on the actual number of columns\n",
    "    num_cols = min(7, len(df.columns))\n",
    "    \n",
    "    # Ensure we don't exceed the number of columns in the DataFrame\n",
    "    columns_to_read = list(range(num_cols))\n",
    "    \n",
    "    # Select only the specified columns\n",
    "    df_selected = df.iloc[:, columns_to_read].copy()\n",
    "    \n",
    "    # Add a new column with the tab name to the selected DataFrame using loc\n",
    "    df_selected.loc[:, 'Year/s'] = sheet_name\n",
    "    \n",
    "    # Append the modified DataFrame to the list\n",
    "    dfs_with_tab_name.append(df_selected)     "
   ]
  },
  {
   "cell_type": "code",
   "execution_count": 620,
   "id": "f8c0d404-d686-4712-a388-32b680dbd2a9",
   "metadata": {},
   "outputs": [],
   "source": [
    "# Concatenate all DataFrames in the list into a single DataFrame\n",
    "combined_df = pd.concat(dfs_with_tab_name, ignore_index=True)  "
   ]
  },
  {
   "cell_type": "code",
   "execution_count": 621,
   "id": "78d11521-bce2-4fef-87a1-fa2525b27b90",
   "metadata": {},
   "outputs": [],
   "source": [
    "# Define a dictionary to map old values to new values\n",
    "value_mapping = {'Table 1.1': '2003-2004', 'Table 1.2': '2005-2006', 'Table 1.3': '2007-2008', 'Table 1.4': '2009-2010', 'Table 1.5': '2011-2012', 'Table 1.6': '2013-2014', 'Table 1.7': '2015-2016', 'Table 1.8': '2017-2018', 'Table 1.9': '2019-2020', 'Table 1.10': '2020-2021', 'Table 1.11': '2021-2022', 'Explanatory Notes': '', 'tab_name': 'Year/s'}"
   ]
  },
  {
   "cell_type": "code",
   "execution_count": 622,
   "id": "957b45ba-2383-4860-bd23-fc3941d5d7ce",
   "metadata": {},
   "outputs": [],
   "source": [
    "# Replace values in column 'tab_name' using the value_mapping dictionary\n",
    "combined_df['Year/s'] = combined_df['Year/s'].replace(value_mapping)"
   ]
  },
  {
   "cell_type": "code",
   "execution_count": 623,
   "id": "8ca38f6a-a3e0-4ec9-949e-1cf86b0e2973",
   "metadata": {},
   "outputs": [],
   "source": [
    "# Remove rows where column 'Year/s' has value '2020-2021' or '2021-2022'\n",
    "values_to_remove = ['2020-2021', '2021-2022']\n",
    "cleaned_df = combined_df[~combined_df['Year/s'].isin(values_to_remove)]"
   ]
  },
  {
   "cell_type": "code",
   "execution_count": 624,
   "id": "1d8eb970-b956-46e2-b7ff-5d919b9c6a35",
   "metadata": {},
   "outputs": [],
   "source": [
    "# Convert values to numeric data type\n",
    "cleaned_df.loc[:, 'Wages and salaries'] = cleaned_df['Wages and salaries'].astype(float)\n",
    "cleaned_df.loc[:, 'Income from  unincorporated business (a)'] = cleaned_df['Income from  unincorporated business (a)'].astype(float)\n",
    "cleaned_df.loc[:, 'Property income and superannuation'] = cleaned_df['Property income and superannuation'].astype(float)\n",
    "cleaned_df.loc[:, 'Government pensions and allowances'] = cleaned_df['Government pensions and allowances'].astype(float)\n",
    "cleaned_df.loc[:, 'Other'] = cleaned_df['Other'].astype(float)\n",
    "cleaned_df.loc[:, 'All households (b)'] = cleaned_df['All households (b)'].astype(float)\n",
    "cleaned_df.loc[:, 'Year/s'] = cleaned_df['Year/s'].astype(str)"
   ]
  },
  {
   "cell_type": "code",
   "execution_count": 625,
   "id": "dddbc156-c7c0-4889-bb4e-8d11c7bc5dd3",
   "metadata": {},
   "outputs": [],
   "source": [
    "# Specify the file path for the CSV file\n",
    "csv_file_path = 'ABS_income_data.csv'  "
   ]
  },
  {
   "cell_type": "code",
   "execution_count": 626,
   "id": "fdcca3af-0ba7-48c1-889a-872bcae1ea18",
   "metadata": {},
   "outputs": [],
   "source": [
    "# Save the DataFrame to a CSV file\n",
    "cleaned_df.to_csv(csv_file_path, index=False) "
   ]
  },
  {
   "cell_type": "code",
   "execution_count": 627,
   "id": "ff2bfbc5-8e8a-4600-b164-01a5c59de74c",
   "metadata": {},
   "outputs": [
    {
     "name": "stdout",
     "output_type": "stream",
     "text": [
      "DataFrame successfully saved to 'ABS_income_data.csv'.\n"
     ]
    }
   ],
   "source": [
    "print(f\"DataFrame successfully saved to '{csv_file_path}'.\")"
   ]
  },
  {
   "cell_type": "code",
   "execution_count": 628,
   "id": "c2dc398f-9ca6-4546-978b-5b060dafb61f",
   "metadata": {},
   "outputs": [],
   "source": [
    "# Create a pivot table with 'Category' as rows, 'Year' as columns, and 'Value' as values\n",
    "pivot_df = cleaned_df.pivot_table(columns='Year/s', values='All households (b)', aggfunc='sum')\n"
   ]
  },
  {
   "cell_type": "code",
   "execution_count": 629,
   "id": "27a4e20c-c737-4e02-beed-d288f0db8a60",
   "metadata": {},
   "outputs": [],
   "source": [
    "# rename the index as \"Household income\"\n",
    "pivot_df = cleaned_df.pivot_table(index='Unnamed: 0', columns='Year/s', values='All households (b)', aggfunc='sum')\n",
    "pivot_df = pivot_df.rename_axis('Household income')"
   ]
  },
  {
   "cell_type": "code",
   "execution_count": 630,
   "id": "a794491d-1063-4a35-a33b-bec55b64c9c2",
   "metadata": {},
   "outputs": [],
   "source": [
    "# Define a function to format values as currency with 2 decimal places\n",
    "def format_currency(value):\n",
    "    return \"${:,.2f}\".format(value)"
   ]
  },
  {
   "cell_type": "code",
   "execution_count": 631,
   "id": "d85847eb-b456-4a50-bd15-9fd060b9e375",
   "metadata": {},
   "outputs": [],
   "source": [
    "# Apply the currency formatting with 2 decimal places to the pivot table values\n",
    "formatted_pivot_df = pivot_df.map(format_currency)"
   ]
  },
  {
   "cell_type": "code",
   "execution_count": 632,
   "id": "65de2545-8c71-4d79-9fde-ccb2da4ef03e",
   "metadata": {},
   "outputs": [
    {
     "data": {
      "text/html": [
       "<div>\n",
       "<style scoped>\n",
       "    .dataframe tbody tr th:only-of-type {\n",
       "        vertical-align: middle;\n",
       "    }\n",
       "\n",
       "    .dataframe tbody tr th {\n",
       "        vertical-align: top;\n",
       "    }\n",
       "\n",
       "    .dataframe thead th {\n",
       "        text-align: right;\n",
       "    }\n",
       "</style>\n",
       "<table border=\"1\" class=\"dataframe\">\n",
       "  <thead>\n",
       "    <tr style=\"text-align: right;\">\n",
       "      <th>Year/s</th>\n",
       "      <th>2003-2004</th>\n",
       "      <th>2005-2006</th>\n",
       "      <th>2007-2008</th>\n",
       "      <th>2009-2010</th>\n",
       "      <th>2011-2012</th>\n",
       "      <th>2013-2014</th>\n",
       "      <th>2015-2016</th>\n",
       "      <th>2017-2018</th>\n",
       "      <th>2019-2020</th>\n",
       "    </tr>\n",
       "    <tr>\n",
       "      <th>Household income</th>\n",
       "      <th></th>\n",
       "      <th></th>\n",
       "      <th></th>\n",
       "      <th></th>\n",
       "      <th></th>\n",
       "      <th></th>\n",
       "      <th></th>\n",
       "      <th></th>\n",
       "      <th></th>\n",
       "    </tr>\n",
       "  </thead>\n",
       "  <tbody>\n",
       "    <tr>\n",
       "      <th>Estimated number of households in population</th>\n",
       "      <td>$7,954,585.00</td>\n",
       "      <td>$8,160,856.00</td>\n",
       "      <td>$8,327,818.00</td>\n",
       "      <td>$8,664,857.00</td>\n",
       "      <td>$8,912,566.00</td>\n",
       "      <td>$9,048,583.00</td>\n",
       "      <td>$9,246,191.00</td>\n",
       "      <td>$9,554,316.00</td>\n",
       "      <td>$10,016,972.00</td>\n",
       "    </tr>\n",
       "    <tr>\n",
       "      <th>Gross disposable income</th>\n",
       "      <td>$536,356.00</td>\n",
       "      <td>$608,301.00</td>\n",
       "      <td>$725,929.00</td>\n",
       "      <td>$827,246.00</td>\n",
       "      <td>$939,989.00</td>\n",
       "      <td>$1,022,855.00</td>\n",
       "      <td>$1,095,050.00</td>\n",
       "      <td>$1,165,497.00</td>\n",
       "      <td>$1,282,944.00</td>\n",
       "    </tr>\n",
       "    <tr>\n",
       "      <th>Total gross income</th>\n",
       "      <td>$711,537.00</td>\n",
       "      <td>$819,132.00</td>\n",
       "      <td>$985,903.00</td>\n",
       "      <td>$1,083,258.00</td>\n",
       "      <td>$1,248,033.00</td>\n",
       "      <td>$1,336,473.00</td>\n",
       "      <td>$1,433,237.00</td>\n",
       "      <td>$1,530,133.00</td>\n",
       "      <td>$1,656,039.00</td>\n",
       "    </tr>\n",
       "    <tr>\n",
       "      <th>Total income payable</th>\n",
       "      <td>$175,181.00</td>\n",
       "      <td>$210,831.00</td>\n",
       "      <td>$259,974.00</td>\n",
       "      <td>$256,011.00</td>\n",
       "      <td>$308,044.00</td>\n",
       "      <td>$313,618.00</td>\n",
       "      <td>$338,187.00</td>\n",
       "      <td>$364,636.00</td>\n",
       "      <td>$373,095.00</td>\n",
       "    </tr>\n",
       "  </tbody>\n",
       "</table>\n",
       "</div>"
      ],
      "text/plain": [
       "Year/s                                            2003-2004      2005-2006  \\\n",
       "Household income                                                             \n",
       "Estimated number of households in population  $7,954,585.00  $8,160,856.00   \n",
       "Gross disposable income                         $536,356.00    $608,301.00   \n",
       "Total gross income                              $711,537.00    $819,132.00   \n",
       "Total income payable                            $175,181.00    $210,831.00   \n",
       "\n",
       "Year/s                                            2007-2008      2009-2010  \\\n",
       "Household income                                                             \n",
       "Estimated number of households in population  $8,327,818.00  $8,664,857.00   \n",
       "Gross disposable income                         $725,929.00    $827,246.00   \n",
       "Total gross income                              $985,903.00  $1,083,258.00   \n",
       "Total income payable                            $259,974.00    $256,011.00   \n",
       "\n",
       "Year/s                                            2011-2012      2013-2014  \\\n",
       "Household income                                                             \n",
       "Estimated number of households in population  $8,912,566.00  $9,048,583.00   \n",
       "Gross disposable income                         $939,989.00  $1,022,855.00   \n",
       "Total gross income                            $1,248,033.00  $1,336,473.00   \n",
       "Total income payable                            $308,044.00    $313,618.00   \n",
       "\n",
       "Year/s                                            2015-2016      2017-2018  \\\n",
       "Household income                                                             \n",
       "Estimated number of households in population  $9,246,191.00  $9,554,316.00   \n",
       "Gross disposable income                       $1,095,050.00  $1,165,497.00   \n",
       "Total gross income                            $1,433,237.00  $1,530,133.00   \n",
       "Total income payable                            $338,187.00    $364,636.00   \n",
       "\n",
       "Year/s                                             2019-2020  \n",
       "Household income                                              \n",
       "Estimated number of households in population  $10,016,972.00  \n",
       "Gross disposable income                        $1,282,944.00  \n",
       "Total gross income                             $1,656,039.00  \n",
       "Total income payable                             $373,095.00  "
      ]
     },
     "execution_count": 632,
     "metadata": {},
     "output_type": "execute_result"
    }
   ],
   "source": [
    "# Display the formatted pivot table\n",
    "formatted_pivot_df\n",
    "##########NEED TO FIX FORMATTING OF FIRST ROW############################"
   ]
  },
  {
   "cell_type": "code",
   "execution_count": null,
   "id": "a93e2f9c-31bf-4630-b089-0af596193293",
   "metadata": {},
   "outputs": [],
   "source": []
  }
 ],
 "metadata": {
  "kernelspec": {
   "display_name": "Python 3 (ipykernel)",
   "language": "python",
   "name": "python3"
  },
  "language_info": {
   "codemirror_mode": {
    "name": "ipython",
    "version": 3
   },
   "file_extension": ".py",
   "mimetype": "text/x-python",
   "name": "python",
   "nbconvert_exporter": "python",
   "pygments_lexer": "ipython3",
   "version": "3.11.7"
  }
 },
 "nbformat": 4,
 "nbformat_minor": 5
}
