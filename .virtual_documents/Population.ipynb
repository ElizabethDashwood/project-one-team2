from pathlib import Path
import pandas as pd


# Files to Load
population_data_to_load_2021 = ("../Project_1/2021_GCP_SAL_for_VIC_short-header/2021 Census GCP Suburbs and Localities for VIC/2021Census_G03_VIC_SAL.csv")
suburb_name_data_to_load_2021 = ("../Project_1/2021_GCP_SAL_for_VIC_short-header/Metadata/2021Census_geog_desc_1st_2nd_3rd_release.xlsx")


# Read Population data into Pandas DataFrames
population_data_2021_df = pd.read_csv(population_data_to_load_2021)

# Read population and Suburb data into Pandas DataFrames and specifiy which worksheet number to be read in suburb file
sheet_name = 0
suburb_name_data_2021_df = pd.read_excel("../Project_1/2021_GCP_SAL_for_VIC_short-header/Metadata/2021Census_geog_desc_1st_2nd_3rd_release.xlsx", sheet_name = 5)
# Reference:https://pandas.pydata.org/pandas-docs/stable/reference/api/pandas.read_excel.html


# Test only: Check data load for population data
population_data_2021_df.head()


#Test only: Read an individual record for a population
population_test = population_data_2021_df.loc[(population_data_2021_df["SAL_CODE_2021"] == "SAL20495"), :]
population_test


# Test only: Check data load for suburb data
suburb_name_data_2021_df.head()


#Test only: Read an individual record for a suburb
suburb_test = suburb_name_data_2021_df.loc[(suburb_name_data_2021_df["Census_Code_2021"] == "SAL20495"), :]
suburb_test


# Rename column in Population data for allow DataFrames to merge
population_data_2021_df= population_data_2021_df.rename(columns={"SAL_CODE_2021":"Census_Code_2021"})
population_data_2021_df.head()


# Merge Population Data and Suburb Data DataFrames
population_and_suburb_data_df = pd.merge(population_data_2021_df, suburb_name_data_2021_df, how = "left", on=["Census_Code_2021", "Census_Code_2021"])


# Test only: Read data after merge of Population and Suburb DataFrames
population_and_suburb_data_df.head()


# Test only: Read individual record after merge of Population and Suburb DataFrames
#population_and_suburb_test_df = population_and_suburb_data_df.loc[(population_and_suburb_data_df["Census_Code_2021"] == "SAL20495")]
population_and_suburb_test_df = population_and_suburb_data_df.loc[(population_and_suburb_data_df["Census_Name_2021"] == "Carlton (Vic.)")]


population_and_suburb_test_df.head()



