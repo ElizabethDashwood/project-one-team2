from pathlib import Path
import pandas as pd


# Files to Load
population_data_to_load_2021 = ("../Project_1/2021_GCP_SAL_for_VIC_short-header/2021 Census GCP Suburbs and Localities for VIC/2021Census_G03_VIC_SAL.csv")
suburb_name_data_to_load_2021 = ("../Project_1/2021_GCP_SAL_for_VIC_short-header/Metadata/2021Census_geog_desc_1st_2nd_3rd_release.xlsx")


# Read Population data into Pandas DataFrames
population_data_2021_df = pd.read_csv(population_data_to_load_2021)

# Read population and Suburb data into Pandas DataFrames and specifiy which worksheet number to be read in suburb file
sheet_name = 0
suburb_name_data_2021_df = pd.read_excel("../Project_1/2021_GCP_SAL_for_VIC_short-header/Metadata/2021Census_geog_desc_1st_2nd_3rd_release.xlsx", sheet_name = 5)
# Reference:https://pandas.pydata.org/pandas-docs/stable/reference/api/pandas.read_excel.html


# Test only: Check data load for population data
population_data_2021_df.head()


#Test only: Read an individual record for a population
population_test = population_data_2021_df.loc[(population_data_2021_df["SAL_CODE_2021"] == "SAL20495"), :]
population_test


# Test only: Check data load for suburb data
suburb_name_data_2021_df.head()


#Test only: Read an individual record for a suburb
suburb_test = suburb_name_data_2021_df.loc[(suburb_name_data_2021_df["Census_Code_2021"] == "SAL20495"), :]
suburb_test


# Rename column in Population data for allow DataFrames to merge
population_data_2021_df= population_data_2021_df.rename(columns={"SAL_CODE_2021":"Census_Code_2021"})
population_data_2021_df.head()


# Merge Population Data and Suburb Data DataFrames
population_and_suburb_merged_df = pd.merge(population_data_2021_df, suburb_name_data_2021_df, how = "left", on=["Census_Code_2021", "Census_Code_2021"])


# Test only: Read data after merge of Population and Suburb DataFrames
population_and_suburb_merged_df.head(499)


# Test only: Read individual record after merge of Population and Suburb DataFrames
#population_and_suburb_test_df = population_and_suburb_merged_df.loc[(population_and_suburb_merged_df["Census_Code_2021"] == "SAL20495")]
population_and_suburb_test_df = population_and_suburb_merged_df.loc[(population_and_suburb_merged_df["Census_Name_2021"] == "Carlton (Vic.)")]


# Set Index to AGSS_Code_2021 and rename columns to meaningful headings
population_and_suburb_data_df = population_and_suburb_merged_df.set_index(["AGSS_Code_2021"])
population_and_suburb_data_df = population_and_suburb_data_df.rename(columns={"Total_Total":"Total_Population","Census_Name_2021":"Suburb_Name"})


# Test only: Check data after setiing index and renaming columns
population_and_suburb_data_df.head(495)


# Create final DataFrame with only the required columns
population_and_suburb_summary_data_df = population_and_suburb_data_df[["Census_Code_2021","Suburb_Name","Total_Population","Area sqkm"]]


# Test only: Check final DataFrame with required columns
population_and_suburb_summary_data_df.head()


# Test only: Read record for individual suburb by Suburb_Name
test_suburb_name_df = population_and_suburb_summary_data_df.loc[(population_and_suburb_summary_data_df["Suburb_Name"] ==  "Mulgrave (Vic.)")]  #"Carlton (Vic.)"


# Test only: Check record for individual suburb by Suburb_Name
test_suburb_name_df


# Test only: Read record for individual suburb by Census_Code_2021
test_Census_Code_2021_df = population_and_suburb_summary_data_df.loc[(population_and_suburb_summary_data_df["Census_Code_2021"] ==  "SAL20496")]


# Test only: Check record for individual suburb by Census_Code_2021
test_Census_Code_2021_df


# Read of final Suburb and Population data
population_and_suburb_summary_data_df



