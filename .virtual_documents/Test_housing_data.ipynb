# Dependencies
import requests
import json
import pandas as pd
import numpy as np 
import matplotlib.pyplot as plt
import seaborn as sns
sns.set_theme(color_codes=True)
pd.set_option('display.max_columns', None)


# Read CSV file.
df = pd.read_csv('Melbourne_housing.csv')
df.head()


# Check the number of unique values from all columns in the dataframe
df.nunique()


# remove column with high unique values
df = df.drop(['Suburb', 'Address', 'SellerG'], axis=1)
df.head()


# Extract year from 'Date' column
df['Date'] = df['Date'].str[-4:]
df.head()


# Convert 'Date' column to integer
df['Date'] = df['Date'].astype(int)
########################################
df['CouncilArea'].unique()


df['CouncilArea'].unique()


# Seperate council areas by Inner, Outer, middle and other melbourne

def segment_council_area(area):
    if area in ['Yarra', 'Port Phillip', 'Stonnington', 'Boroondara']:
        return 'Inner Melbourne'
    elif area in ['Hobsons Bay', 'Darebin', 'Hume', 'Kingston', 'Maribyrnong', 'Monash', 'Whitehorse']:
        return 'Outer Melbourne'
    elif area in ['Moreland', 'Banyule', 'Bayside', 'Brimbank', 'Melbourne', 'Hume', 'Kingston', 'Monash', 'Port Phillip', 'Stonnington', 'Yarra']:
        return 'Middle Melbourne'
    else:
        return 'Other Melbourne'

# Apply the function to the CouncilArea column
df['Segment'] = df['CouncilArea'].apply(segment_council_area)



sns.barplot(x='Segment', y='Price', data=df)
plt.show()


f, ax = plt.subplots(figsize=(10, 8))
sns.barplot(x='Price', y='CouncilArea', data=df)
plt.show()



# barplot based on type of property and price
sns.barplot(x='Type', y='Price', data=df)
plt.show()


# list of categorical variables to plot
cat_vars = ['Type', 'CouncilArea', 'Regionname', 'Bedroom2', 'Bathroom', 'Year']

# create figure with subplots
fig, axs = plt.subplots(nrows=3, ncols=3, figsize=(20, 20))
axs = axs.flatten()

# create barplot for each categorical variable
for i, var in enumerate(cat_vars):
    sns.barplot(x=var, y='Price', data=df, ax=axs[i])
    axs[i].set_xticklabels(axs[i].get_xticklabels(), rotation=90)

# adjust spacing between subplots
fig.tight_layout()

# remove the eighth subplot
fig.delaxes(axs[7])

# remove the ninth subplot
fig.delaxes(axs[8])

# show plot
plt.show()


# Specify the maximum number of categories to show individually
max_categories = 5

cat_vars = ['Type', 'CouncilArea', 'Regionname', 'Year']

# Create a figure and axes
fig, axs = plt.subplots(nrows=4, ncols=1, figsize=(10, 20))

# Create a pie chart for each categorical variable
for i, var in enumerate(cat_vars):
    counts = df[var].value_counts()
    if len(counts) > max_categories:
        counts = counts[:max_categories]
    axs[i].pie(counts, labels=counts.index, autopct='%1.1f%%')
    axs[i].set_title(var)

# Adjust spacing between subplots
fig.tight_layout()

# Show the plot
plt.show()




# Remove rows where 'YearBuilt' < 2000
df = df[df['YearBuilt'] >= 2000]

sns.set_style("whitegrid")
sns.set_palette("Set2")

sns.lineplot(x='YearBuilt', y='Price', hue='Type', data=df, ci=None, estimator='mean', alpha=0.8)

plt.title("Price by Year Built and Type")
plt.xlabel("Year")
plt.ylabel("Price")

plt.show()



sns.set_style("whitegrid")
sns.set_palette("Set2")

sns.lineplot(x='YearBuilt', y='Price', hue='CouncilArea', data=df, ci=None, estimator='mean', alpha=0.7)

plt.title("Price by Year Built and Council Area")
plt.xlabel("Year")
plt.ylabel("Price")

plt.show()



