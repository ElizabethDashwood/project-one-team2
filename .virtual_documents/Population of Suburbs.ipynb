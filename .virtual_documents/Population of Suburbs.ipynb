#https://www.abs.gov.au/statistics/people/population/population-census/latest-release
#Need to look at SAL (Suburbs and Location Data) to get to population data by suburb
#https://www.abs.gov.au/statistics/standards/australian-statistical-geography-standard-asgs-edition-3/jul2021-jun2026/non-abs-structures/suburbs-and-localities
#https://geo.abs.gov.au/arcgis/rest/services/ASGS2021/MB/MapServer
#https://geo.abs.gov.au/arcgis/rest/services/ASGS2021/SAL/MapServer
#https://www.abs.gov.au/statistics/people/population/regional-population/latest-release#data-downloads
#https://www.reddit.com/r/gis/comments/1bmgd9s/australian_population_data_by_townsuburb/
#https://www.abs.gov.au/census/guide-census-data/mesh-block-counts/latest-release
#https://www.planning.vic.gov.au/guides-and-resources/data-and-insights/victorian-population-data
#https://mapshare.vic.gov.au/demography-map/
#https://en.wikipedia.org/wiki/List_of_Melbourne_suburbs
#https://www.abs.gov.au/ausstats/abs@.nsf/66f306f503e529a5ca25697e0017661f/99FE76C6D6BE36A4CA256C2500036F77?opendocument
#https://www.abs.gov.au/about/data-services/data-explorer-user-guide/exploring-data
#https://www.abs.gov.au/about/data-services/data-explorer/data-explorer-user-guide/finding-data
#https://www.abs.gov.au/statistics/people/population/regional-population/2022-23#data-downloads
#https://www.abs.gov.au/websitedbs/D3310114.nsf/Home/Services%20for%20Libraries%20-%20Historical%20Census%20Data#:~:text=Census%20Data%20Online%20provides%20access,Censuses%20of%20Population%20and%20Housing.&text=Historical%20Censuses%20(Pre%201996)%20provides,progressively%20added%20to%20this%20portal.
#https://www.abs.gov.au/AUSSTATS/abs@.nsf/Previousproducts/927ACD729DD72D51CA25720B00028C45?opendocument
