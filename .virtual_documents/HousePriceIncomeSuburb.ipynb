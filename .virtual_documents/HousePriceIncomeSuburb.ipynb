


# Dependencies
import requests
import json
import pandas as pd
import numpy as np
from pathlib import Path
import matplotlib.pyplot as plt
import seaborn as sns
from pathlib import Path
import statsmodels.api as sm
import statsmodels.formula.api as smf
from pprint import pprint
import scipy.stats as st


# base URL for API
base_url = "https://data.melbourne.vic.gov.au/api/explore/v2.1/catalog/datasets/house-prices-by-small-area-sale-year/records?limit=50&refine=sale_year%3A"


# get all years
min_year = 2000 - 1
max_year = 2016
temp = []

for i in range(max_year, min_year, -1):
    response = requests.get(base_url + str(i)).json()

    year_results = response["results"]

    for j in range(len(year_results)):
        temp.append(year_results[j])
    
house_price_df = pd.DataFrame(temp)
house_price_df.head()


# Get data from DF
house_price_df.count()


# Drop NA data
house_price_df = house_price_df.dropna(how='any')
house_price_df.count()


# Display clean DF
house_price_df.head()


# Get unique small areas
print(house_price_df["small_area"].unique())





# Modifying house_price_df for 2 year ranges, to compare with Income Data
starting_years = list(range(2003,2015 + 1,2))

# empty list to store new dictionaries
median_price_two_year_dict = {}
sum_transactions_two_year_dict = {}

# loop through year ranges
for year in starting_years:
    st_year = house_price_df[house_price_df["sale_year"] == str(year)]
    en_year = house_price_df[house_price_df["sale_year"] == str(year + 1)]

    # get intersection
    two_year = pd.merge(st_year, en_year, how ='inner', on =['small_area', 'type'])

    # get rid of "Docklands House/Townhouse" and "Southbank House/Townhouse"
    two_year = two_year.drop(two_year[(two_year['small_area'] == 'Docklands') & (two_year['type'] == 'House/Townhouse')].index)
    two_year = two_year.drop(two_year[(two_year['small_area'] == 'Southbank') & (two_year['type'] == 'House/Townhouse')].index)
    two_year = two_year.reset_index(drop=True)

    # add together transaction counts, and average median prices
    average_median_2y = (two_year["median_price_x"] + two_year["median_price_y"])/2
    two_year["average_median_2y"] = average_median_2y
    sum_transactions_2y = two_year["transaction_count_x"] + two_year["transaction_count_y"]
    two_year["sum_transactions_2y"] = sum_transactions_2y

    # split into types
    two_year_groupby = two_year.groupby(["type"])
    two_year_ave_median = two_year_groupby["average_median_2y"].mean()
    two_year_sum_transactions = two_year_groupby["sum_transactions_2y"].mean()

    # put into dictionaries
    median_price_two_year_dict[f"%s-%s" % (year, year + 1)] = two_year_ave_median
    sum_transactions_two_year_dict[f"%s-%s" % (year, year + 1)] = two_year_sum_transactions




# median price DF
median_price_two_year_df = pd.DataFrame(median_price_two_year_dict)
median_price_two_year_df.head(17)


# number of transactions DF
sum_transactions_two_year_df = pd.DataFrame(sum_transactions_two_year_dict)
sum_transactions_two_year_df.head(17)


# create line graph for average median price vs Years
median_price_two_year_df.T.plot()
plt.title("Years vs Average Median Price")
plt.xlabel("Years")
plt.ylabel("Average Median Price")
plt.show()


# line graph of median house price by year
house_price_df['median_price'] = house_price_df['median_price'].astype(float)
house_price_df['sale_year'] = house_price_df['sale_year'].astype(int)

# create a pivot table with 'small_area' as rows, 'sale_year' as columns, and 'median_price' as values
house_price_pivot_df = house_price_df.pivot_table(index='small_area', columns='sale_year', values='median_price', aggfunc='mean')

# create a line graph
house_price_pivot_df.T.plot(kind='line', figsize=(15, 10), title='Median House Price by Year')
plt.ylabel('Median House Price')
plt.xlabel('Year')
plt.show()


# create a bar graph for the average median house price by suburb
average_median_price_by_suburb = house_price_df.groupby('small_area')['median_price'].mean()
average_median_price_by_suburb.plot(kind='bar', figsize=(15, 10), title='Average Median House Price by Suburb')
plt.ylabel('Average Median House Price')
plt.xlabel('Suburb')
plt.show()





# Specify the path to your Excel file
household_income_data = "Resources/5204055011do001.xlsx"  


# Define the row indices to skip
rows_to_skip = list(range(0, 6)) + [7] + list(range(9, 26)) + list(range(27, 40)) + list(range(42, 127))  


# Read ABS income data file and store into Pandas DataFrames
dfs = pd.read_excel(household_income_data, sheet_name=None, skiprows=rows_to_skip)  


# Create an empty list to store DataFrames with tab names as a column
dfs_with_tab_name = [] 


# Flag to skip the first and last tab
skip_first_tab = True
skip_last_tab = False


# Iterate over each sheet in the dictionary
for sheet_name, df in dfs.items():
    if skip_first_tab:
        skip_first_tab = False
        continue  # Skip processing the first tab
        
    if skip_last_tab:
        break  # Exit the loop if the last tab is reached
        
    # Determine the column indices dynamically based on the actual number of columns
    num_cols = min(7, len(df.columns))
    
    # Ensure we don't exceed the number of columns in the DataFrame
    columns_to_read = list(range(num_cols))
    
    # Select only the specified columns
    df_selected = df.iloc[:, columns_to_read].copy()
    
    # Add a new column with the tab name to the selected DataFrame using loc
    df_selected.loc[:, 'Year/s'] = sheet_name
    
    # Append the modified DataFrame to the list
    dfs_with_tab_name.append(df_selected)    


# Concatenate all DataFrames in the list into a single DataFrame
combined_df = pd.concat(dfs_with_tab_name, ignore_index=True)  


# Define a dictionary to map old values to new values
value_mapping = {'Table 1.1': '2003-2004', 'Table 1.2': '2005-2006', 'Table 1.3': '2007-2008', 'Table 1.4': '2009-2010', 'Table 1.5': '2011-2012', 'Table 1.6': '2013-2014', 'Table 1.7': '2015-2016', 'Table 1.8': '2017-2018', 'Table 1.9': '2019-2020', 'Table 1.10': '2020-2021', 'Table 1.11': '2021-2022', 'Explanatory Notes': '', 'tab_name': 'Year/s'}


# Replace values in column 'tab_name' using the value_mapping dictionary
combined_df['Year/s'] = combined_df['Year/s'].replace(value_mapping)


# Remove rows where column 'Year/s' has value '2020-2021' or '2021-2022'
values_to_remove = ['2020-2021', '2021-2022']
cleaned_df = combined_df[~combined_df['Year/s'].isin(values_to_remove)]


# Convert values to numeric data type
cleaned_df.loc[:, 'Wages and salaries'] = cleaned_df['Wages and salaries'].astype(float)
cleaned_df.loc[:, 'Income from  unincorporated business (a)'] = cleaned_df['Income from  unincorporated business (a)'].astype(float)
cleaned_df.loc[:, 'Property income and superannuation'] = cleaned_df['Property income and superannuation'].astype(float)
cleaned_df.loc[:, 'Government pensions and allowances'] = cleaned_df['Government pensions and allowances'].astype(float)
cleaned_df.loc[:, 'Other'] = cleaned_df['Other'].astype(float)
cleaned_df.loc[:, 'All households (b)'] = cleaned_df['All households (b)'].astype(float)
cleaned_df.loc[:, 'Year/s'] = cleaned_df['Year/s'].astype(str)


# Specify the file path for the CSV file
csv_file_path = 'ABS_income_data.csv'  


# Save the DataFrame to a CSV file
cleaned_df.to_csv(csv_file_path, index=False) 


print(f"DataFrame successfully saved to '{csv_file_path}'.")


# Create a pivot table with 'Category' as rows, 'Year' as columns, and 'Value' as values
pivot_df = cleaned_df.pivot_table(columns='Year/s', values='All households (b)', aggfunc='sum')



# rename the index as "Household income"
pivot_df = cleaned_df.pivot_table(index='Unnamed: 0', columns='Year/s', values='All households (b)', aggfunc='sum')
pivot_df = pivot_df.rename_axis('Household income')


household_income_df = pivot_df
household_income_df.head()


# Create a DataFrame with the provided data
data = {
    'Year/s': ['2003-2004', '2005-2006', '2007-2008', '2009-2010', '2011-2012', '2013-2014', '2015-2016', '2017-2018', '2019-2020'],
    'Gross Disposable Income': [536356.0, 608301.0, 725929.0, 827246.0, 939989.0, 1022855.0, 1095050.0, 1165497.0, 1282944.0],
    'Total Gross Income': [711537.0, 819132.0, 985903.0, 1083258.0, 1248033.0, 1336473.0, 1433237.0, 1530133.0, 1656039.0],
    'Total Income Payable': [175181.0, 210831.0, 259974.0, 256011.0, 308044.0, 313618.0, 338187.0, 364636.0, 373095.0]
}
income_df = pd.DataFrame(data)


# Set 'Year/s' column as the index
income_df.set_index('Year/s', inplace=True)


# Plot the line graph
income_df.plot(kind='line', marker='o', figsize=(12, 6))
plt.xlabel('Year')
plt.ylabel('Income')
plt.title('Comparison of Gross Income Versus Spendable Income Over the Years')
plt.legend(title='Income Category')
plt.grid(True)
plt.show()


# Extract the data for 'Total Gross income' from a specific row in the DataFrame
total_gross_income_data = household_income_df.loc['Total gross income']


# Set the X-axis values to be the years
years = total_gross_income_data.index


# Set the Y-axis values to be the 'Total Gross income' values
total_gross_income_values = total_gross_income_data.values


# Define a color map for each year
colors = plt.cm.viridis(np.linspace(0, 1, len(years)))


# Create a bar graph with different colors for each year
plt.bar(years, total_gross_income_values, color=colors)
plt.xlabel('Year')
plt.ylabel('Total Gross Income')
plt.title('Total Gross Income by Year')
plt.xticks(rotation=45)  # Rotate X-axis labels for better visibility
plt.show()





# calculate median income from household_income_df
median_income = household_income_df.median()
median_income


# Median income by year
median_income_by_year = household_income_df.median(axis=0)
median_income_by_year.plot(kind='bar')
plt.title('Median Income by Year')
plt.xlabel('Year')
plt.ylabel('Median Income')
plt.show()


# calculate median income
median_income = household_income_df.median()
median_income

# Median income DF
median_income_df = household_income_df.median()
median_income_df = pd.DataFrame(median_income_df)
median_income_df = median_income_df.rename(columns={0: 'Median Income'})
median_income_df.head()


# Median Income
median_income = median_income_df["Median Income"]
median_income.head()



# Analyze trends in average median house prices and median income from 2003 to 2016
# Calculate the average median house price for every two years
average_median_price = median_price_two_year_df.mean()
average_median_price


# Median income by year vs average median house price by year
# Create a DataFrame with the median income and average median house price for every two years, drop the 2017-2018 and 2019-2020 rows
income_vs_price_df = pd.concat([median_income, average_median_price], axis=1)
income_vs_price_df = income_vs_price_df.drop(["2017-2018", "2019-2020"])
income_vs_price_df.columns = ["Median Income", "Average Median House Price"]
income_vs_price_df

# Plot the line graph
income_vs_price_df.plot(kind='line', marker='o', figsize=(12, 6))
plt.xlabel('Year')
plt.ylabel('Amount')
plt.title('Comparison of Median Income and Average Median House Price Over the Years')
plt.legend(title='Category')
plt.grid(True)
plt.show()





# file path for the xlsx file Interest rate data
interest_rate_data = Path("Resources/Interest rate data.csv")


# Get the available sheet names in the CSV file 
interest_rate_data_df = pd.read_csv(interest_rate_data)
interest_rate_data_df.head()

# Drop the first eleven rows
interest_rate_data_df = interest_rate_data_df.drop([0,1,2,3,4,5,6,7,8,9,10])
interest_rate_data_df.head()

# Drop the column "Unnamed: 2" to "Unnamed: 18"
interest_rate_data_df = interest_rate_data_df.drop(interest_rate_data_df.iloc[:, 2:19], axis = 1)
interest_rate_data_df.head()

# Rename the columns
interest_rate_data_df.columns = ["Date", "Interest Rate"]
interest_rate_data_df.head()


if 'Date' in interest_rate_data_df.columns:
    interest_rate_data_df["Date"] = pd.to_datetime(interest_rate_data_df["Date"]).dt.to_period('Y')

# change date to year
interest_rate_data_df["Date"] = interest_rate_data_df["Date"].dt.year

# Change column name
interest_rate_data_df = interest_rate_data_df.rename(columns={"Date": "Year"})
    
# Set the 'Date' column as the index
interest_rate_data_df.set_index('Year', inplace=True)
interest_rate_data_df.head()


interest_rate_data_df['Interest Rate'] = pd.to_numeric(interest_rate_data_df['Interest Rate'], errors='coerce')

# Assuming your DataFrame has a column 'Year' with the year of each interest rate
median_interest_rate = interest_rate_data_df.groupby('Year')['Interest Rate'].median()
median_interest_rate.head()

median_interest_rate = median_interest_rate[median_interest_rate.index != -1]
def group_years(year):
    if 2011 <= year <= 2012:
        return '2011-2012'
    elif 2013 <= year <= 2014:
        return '2013-2014'
    elif 2015 <= year:
        return '2015-2016'  
    else:
        return 'Other'
    
median_interest_rate = median_interest_rate.groupby(group_years).mean()
median_interest_rate.head()


# create a dataframe for the median interest rate, average median house price, and median income
interest_vs_price_vs_income_df = pd.concat([median_interest_rate, average_median_price, median_income], axis=1)
interest_vs_price_vs_income_df.columns = ["Median Interest Rate", "Average Median House Price", "Median Income"]
interest_vs_price_vs_income_df


# drop the Nan values
interest_vs_price_vs_income_df = interest_vs_price_vs_income_df.dropna()
interest_vs_price_vs_income_df


# create affordibility index 
interest_vs_price_vs_income_df.loc[:, "Affordability Index"] = interest_vs_price_vs_income_df["Average Median House Price"] / interest_vs_price_vs_income_df["Median Income"] * 100
interest_vs_price_vs_income_df


# plot heatmap
plt.figure(figsize=(12, 6))
sns.heatmap(interest_vs_price_vs_income_df.corr(), annot=True, cmap='coolwarm')
plt.title('Correlation Heatmap')
plt.show()





# 2021 Files to Load
population_data_to_load_2021 = ("Resources/2021Census_G03_VIC_SAL.csv")
suburb_name_data_to_load_2021 = ("Resources/2021Census_geog_desc_1st_2nd_3rd_release.xlsx")
# Reference: https://www.abs.gov.au/statistics/people/population/regional-population/2022-23#data-downloads


# Read Population data into Pandas DataFrames
population_data_2021_df = pd.read_csv(population_data_to_load_2021)

# Read population and Suburb data into Pandas DataFrames and specifiy which worksheet number to be read in suburb file
sheet_name = 0
suburb_name_data_2021_df = pd.read_excel(suburb_name_data_to_load_2021, sheet_name = 5)
# Reference:https://pandas.pydata.org/pandas-docs/stable/reference/api/pandas.read_excel.html


# Rename column in Population data for allow DataFrames to merge
population_data_2021_df= population_data_2021_df.rename(columns={"SAL_CODE_2021":"Census_Code_2021"})
population_data_2021_df.head()


# Merge Population Data and Suburb Data DataFrames
population_and_suburb_merged_2021_df = pd.merge(population_data_2021_df, suburb_name_data_2021_df, how = "left", on=["Census_Code_2021", "Census_Code_2021"])


# Set Index to AGSS_Code_2021 and rename columns to meaningful headings
population_and_suburb_data_2021_df = population_and_suburb_merged_2021_df.set_index(["AGSS_Code_2021"])
population_and_suburb_data_2021_df = population_and_suburb_data_2021_df.rename(columns={"Total_Total":"Total_Population","Census_Name_2021":"Suburb_Name"})


# Create final Dataframe with only the required columns
population_and_suburb_2021_df = population_and_suburb_data_2021_df[["Suburb_Name","Total_Population","Area sqkm"]]
population_and_suburb_2021_final_df = pd.DataFrame(population_and_suburb_2021_df)
population_and_suburb_2021_final_df.head()


# Create list of required suburbs
City_of_Melbourne_Suburbs_2021 = population_and_suburb_2021_final_df[(population_and_suburb_2021_final_df["Suburb_Name"]=="East Melbourne")|
(population_and_suburb_2021_final_df["Suburb_Name"]=="Parkville (Vic.)")|
(population_and_suburb_2021_final_df["Suburb_Name"]=="North Melbourne")|
(population_and_suburb_2021_final_df["Suburb_Name"]=="South Yarra")|
(population_and_suburb_2021_final_df["Suburb_Name"]=="Southbank")|
(population_and_suburb_2021_final_df["Suburb_Name"]=="Docklands")|
(population_and_suburb_2021_final_df["Suburb_Name"]=="Carlton (Vic.)")|
(population_and_suburb_2021_final_df["Suburb_Name"]=="West Melbourne")|
(population_and_suburb_2021_final_df["Suburb_Name"]=="Kensington (Vic.)")|
(population_and_suburb_2021_final_df["Suburb_Name"]=="Melbourne")]

# Reference:https://pandas.pydata.org/docs/getting_started/intro_tutorials/03_subset_data.html
# Reference: https://www.melbourne.vic.gov.au/about-melbourne/melbourne-profile/suburbs/Pages/suburbs.aspx

City_of_Melbourne_Suburbs_2021


# Create DataFrame for City of Melbourne suburbs
City_of_Melbourne_Suburbs_2021_df = pd.DataFrame(City_of_Melbourne_Suburbs_2021)
City_of_Melbourne_Suburbs_2021_df


# Add Census Year to the DataFrame:
year = ["2021","2021","2021","2021","2021","2021","2021","2021","2021","2021"]
City_of_Melbourne_Suburbs_2021_df["Census_Year"] = year
City_of_Melbourne_Suburbs_2021_df


# 2016 Files to Load
population_data_to_load_2016 = ("Resources/2016Census_G03_VIC_SSC.csv")
suburb_name_data_to_load_2016 = ("Resources/2016Census_geog_desc_1st_and_2nd_release.xlsx")


# Read Population data into Pandas DataFrames
population_data_2016_df = pd.read_csv(population_data_to_load_2016)

# Read population and Suburb data into Pandas DataFrames and specifiy which worksheet number to be read in suburb file
sheet_name = 0
suburb_name_data_2016_df = pd.read_excel(suburb_name_data_to_load_2016, sheet_name = 5)
# Reference:https://pandas.pydata.org/pandas-docs/stable/reference/api/pandas.read_excel.html


# Rename column in Population data for allow DataFrames to merge
population_data_2016_df= population_data_2016_df.rename(columns={"SSC_CODE_2016":"Census_Code_2016"})


# Merge Population Data and Suburb Data DataFrames
population_and_suburb_merged_2016_df = pd.merge(population_data_2016_df, suburb_name_data_2016_df, how = "left", on=["Census_Code_2016", "Census_Code_2016"])


# Set Index to ASGS_Code_2016 and rename columns to meaningful headings
population_and_suburb_data_2016_df = population_and_suburb_merged_2016_df.set_index(["ASGS_Code_2016"])
population_and_suburb_data_2016_df = population_and_suburb_data_2016_df.rename(columns={"Total_Total":"Total_Population","Census_Name_2016":"Suburb_Name"})


# Create final DataFrame with only the required columns
population_and_suburb_2016_df = population_and_suburb_data_2016_df[["Suburb_Name","Total_Population","Area sqkm"]]
population_and_suburb_2016_final_df = pd.DataFrame(population_and_suburb_2016_df)


# Create list of required suburbs
City_of_Melbourne_Suburbs_2016 = population_and_suburb_2016_final_df[(population_and_suburb_2016_final_df["Suburb_Name"]=="East Melbourne")|
(population_and_suburb_2016_final_df["Suburb_Name"]=="Parkville (Vic.)")|
(population_and_suburb_2016_final_df["Suburb_Name"]=="North Melbourne")|
(population_and_suburb_2016_final_df["Suburb_Name"]=="South Yarra")|
(population_and_suburb_2016_final_df["Suburb_Name"]=="Southbank")|
(population_and_suburb_2016_final_df["Suburb_Name"]=="Docklands")|
(population_and_suburb_2016_final_df["Suburb_Name"]=="Carlton (Vic.)")|
(population_and_suburb_2016_final_df["Suburb_Name"]=="West Melbourne")|
(population_and_suburb_2016_final_df["Suburb_Name"]=="Kensington (Vic.)")|
(population_and_suburb_2016_final_df["Suburb_Name"]=="Melbourne")]

# Reference:https://pandas.pydata.org/docs/getting_started/intro_tutorials/03_subset_data.html
# Reference: https://www.melbourne.vic.gov.au/about-melbourne/melbourne-profile/suburbs/Pages/suburbs.aspx

City_of_Melbourne_Suburbs_2016


# Create DataFrame for City of Melbourne suburbs
City_of_Melbourne_Suburbs_2016_df = pd.DataFrame(City_of_Melbourne_Suburbs_2016)
City_of_Melbourne_Suburbs_2016_df


# Add Census Year to the DataFrame:
year = ["2016","2016","2016","2016","2016","2016","2016","2016","2016","2016"]
City_of_Melbourne_Suburbs_2016_df["Census_Year"] = year
City_of_Melbourne_Suburbs_2016_df


# Files to Load
population_data_to_load_2011 = ("Resources/2011Census_B03_VIC_SSC_short.csv")
suburb_name_data_to_load_2011 = ("Resources/2011Census_geog_desc_1st_and_2nd_release.xlsx")


# Read Population data into Pandas DataFrames
population_data_2011_df = pd.read_csv(population_data_to_load_2011)

# Read population and Suburb data into Pandas DataFrames and specifiy which worksheet number to be read in suburb file
sheet_name = 0
suburb_name_data_2011_df = pd.read_excel(suburb_name_data_to_load_2011)
# Reference:https://pandas.pydata.org/pandas-docs/stable/reference/api/pandas.read_excel.html


# Rename column in Population data for allow DataFrames to merge
population_data_2011_df = population_data_2011_df.rename(columns={"region_id":"Code"})


# Merge Population Data and Suburb Data DataFrames
population_and_suburb_merged_2011_df = pd.merge(population_data_2011_df, suburb_name_data_2011_df, how = "left", on=["Code", "Code"])


# Set Index to Level and rename columns to meaningful headings
population_and_suburb_data_2011_df = population_and_suburb_merged_2011_df.set_index(["Code"])
population_and_suburb_data_2011_df = population_and_suburb_data_2011_df.rename(columns={"Total_Total":"Total_Population","Label":"Suburb_Name"})


# Create final DataFrame with only the required columns
population_and_suburb_2011_df = population_and_suburb_data_2011_df[["Suburb_Name","Total_Population","Area sqkm"]]
population_and_suburb_2011_final_df = pd.DataFrame(population_and_suburb_2011_df)


# Create list of required suburbs
City_of_Melbourne_Suburbs_2011 = population_and_suburb_2011_final_df[(population_and_suburb_2011_final_df["Suburb_Name"]=="East Melbourne")|
(population_and_suburb_2011_final_df["Suburb_Name"]=="Parkville (Vic.)")|
(population_and_suburb_2011_final_df["Suburb_Name"]=="North Melbourne")|
(population_and_suburb_2011_final_df["Suburb_Name"]=="South Yarra")|
(population_and_suburb_2011_final_df["Suburb_Name"]=="Southbank")|
(population_and_suburb_2011_final_df["Suburb_Name"]=="Docklands")|
(population_and_suburb_2011_final_df["Suburb_Name"]=="Carlton (Vic.)")|
(population_and_suburb_2011_final_df["Suburb_Name"]=="West Melbourne")|
(population_and_suburb_2011_final_df["Suburb_Name"]=="Kensington (Vic.)")|
(population_and_suburb_2011_final_df["Suburb_Name"]=="Melbourne")]

# Reference:https://pandas.pydata.org/docs/getting_started/intro_tutorials/03_subset_data.html
# Reference: https://www.melbourne.vic.gov.au/about-melbourne/melbourne-profile/suburbs/Pages/suburbs.aspx

City_of_Melbourne_Suburbs_2011


# Create DataFrame for City of Melbourne suburbs
City_of_Melbourne_Suburbs_2011_df = pd.DataFrame(City_of_Melbourne_Suburbs_2011)
City_of_Melbourne_Suburbs_2011_df


# Add Census Year to the DataFrame:
year = ["2011","2011","2011","2011","2011","2011","2011","2011","2011","2011"]
City_of_Melbourne_Suburbs_2011_df["Census_Year"] = year


City_of_Melbourne_Suburbs_2011_df


City_of_Melbourne_Suburbs_2011_df.info()





# suburb population vs median house price
# Merge the population data with the median house price data
population_vs_price_df = pd.merge(population_and_suburb_2021_final_df, house_price_df, how='inner', left_on='Suburb_Name', right_on='small_area')
population_vs_price_df.head()

# correlation between population and median house price
population_vs_price_df["Total_Population"] = population_vs_price_df["Total_Population"].astype(int)
population_vs_price_df["median_price"] = population_vs_price_df["median_price"].astype(float)
population_vs_price_df["Area sqkm"] = population_vs_price_df["Area sqkm"].astype(float)
population_vs_price_df["median_price"] = population_vs_price_df["median_price"].astype(float)
population_vs_price_df["Total_Population"] = population_vs_price_df["Total_Population"].astype(int)
population_vs_price_df["Area sqkm"] = population_vs_price_df["Area sqkm"].astype(float)
population_vs_price_df["Population Density"] = population_vs_price_df["Total_Population"] / population_vs_price_df["Area sqkm"]
population_vs_price_df.head()

# correlation between population density and median house price
population_density_vs_price_df = population_vs_price_df[["Population Density", "median_price"]]
population_density_vs_price_df.corr()

# plot the scatter plot
plt.figure(figsize=(12, 6))
sns.scatterplot(x='Population Density', y='median_price', data=population_density_vs_price_df)
plt.title('Population Density vs Median House Price')
plt.xlabel('Population Density')
plt.ylabel('Median House Price')
plt.show()


# calculate population growth rate for each suburb from 2011 to 2016
population_growth_rate_df = pd.merge(population_and_suburb_2011_final_df, population_and_suburb_2016_final_df, on='Suburb_Name', how='inner')
population_growth_rate_df["Population Growth Rate"] = ((population_growth_rate_df["Total_Population_y"] - population_growth_rate_df["Total_Population_x"]) / \
                                                       population_growth_rate_df["Total_Population_x"]) * 100
population_growth_rate_df = population_growth_rate_df[["Suburb_Name", "Population Growth Rate"]]
population_growth_rate_df.head()


# calculate population growth rate over the years
population_growth_rate_df = population_growth_rate_df.groupby('Suburb_Name').mean()
population_growth_rate_df.head()


# calculate residential price increase from 2011 to 2016
house_price_2016 = house_price_df[house_price_df["sale_year"]==2016]
house_price_2011 = house_price_df[house_price_df["sale_year"]==2011]
house_price_span = pd.merge(house_price_2016,house_price_2011,on=["small_area","type"],how="inner")

res_price_increase = (house_price_span["median_price_x"] - house_price_span["median_price_y"]) / house_price_span["median_price_y"] * 100
house_price_span["res_price_increase"] = res_price_increase
house_price_span.head()


# merge pop growth rate and res price increase
house_price_pop_growth = pd.merge(house_price_span,population_growth_rate_df,left_on="small_area",right_on="Suburb_Name",how="inner")
house_price_pop_growth.head()


# correlation between population growth rate and median house price
population_growth_vs_price_df = house_price_pop_growth[["Population Growth Rate", "res_price_increase"]]
population_growth_vs_price_df.corr()


# plot the scatter plot
plt.figure(figsize=(12, 6))
sns.scatterplot(x='Population Growth Rate', y='res_price_increase', data=population_growth_vs_price_df)
plt.title('Population Growth Rate vs Median House Price')
plt.xlabel('Population Growth Rate')
plt.ylabel('Median House Price Increase')
plt.show()


# get rid of outlier
house_price_pop_growth_sorted = house_price_pop_growth.sort_values(by="res_price_increase", ascending=False).reset_index()
house_price_pop_growth_sorted.head()


# drop largest increase
house_price_pop_growth_sorted = house_price_pop_growth_sorted.drop([0])
house_price_pop_growth_sorted.head()


# correlation between population growth rate and median house price
population_growth_vs_price_df = house_price_pop_growth_sorted[["Population Growth Rate", "res_price_increase"]]
population_growth_vs_price_df.corr()


# plot the scatter plot
plt.figure(figsize=(12, 6))
sns.scatterplot(x='Population Growth Rate', y='res_price_increase', data=population_growth_vs_price_df)
plt.title('Population Growth Rate vs Median House Price')
plt.xlabel('Population Growth Rate')
plt.ylabel('Median House Price Increase')
plt.show()



