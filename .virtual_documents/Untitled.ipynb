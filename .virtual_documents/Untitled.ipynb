


# Dependencies
import requests
import json
import pandas as pd


# base URL for API
base_url = "https://data.melbourne.vic.gov.au/api/explore/v2.1/catalog/datasets/house-prices-by-small-area-sale-year/records?limit=50&refine=sale_year%3A"


# get all years
min_year = 2000 - 1
max_year = 2016
temp = []

for i in range(max_year, min_year, -1):
    response = requests.get(base_url + str(i)).json()

    year_results = response["results"]

    for j in range(len(year_results)):
        temp.append(year_results[j])
    
    #print(json.dumps(response["results"], indent=4, sort_keys=True))
house_price_df = pd.DataFrame(temp)
house_price_df.head()


# Get data from DF
house_price_df.count()


# Drop NA data
house_price_df.dropna(how='any')
house_price_df.count()



